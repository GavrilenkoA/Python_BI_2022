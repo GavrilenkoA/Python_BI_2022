{
  "cells": [
    {
      "cell_type": "markdown",
      "id": "807eeb67-c734-4bd7-87aa-573d1d55366d",
      "metadata": {
        "id": "807eeb67-c734-4bd7-87aa-573d1d55366d"
      },
      "source": [
        "В формулировке заданий будет использоваться понятие **worker**. Это слово обозначает какую-то единицу параллельного выполнения, в случае питона это может быть **поток** или **процесс**, выбирайте то, что лучше будет подходить к конкретной задаче\n",
        "\n",
        "В каждом задании нужно писать подробные аннотиции типов для:\n",
        "1. Аргументов функций и классов\n",
        "2. Возвращаемых значений\n",
        "3. Классовых атрибутов (если такие есть)\n",
        "\n",
        "В каждом задании нужно писать докстроки в определённом стиле (какой вам больше нравится) для всех функций, классов и методов"
      ]
    },
    {
      "cell_type": "markdown",
      "id": "6d3b4f3a-f226-4ea4-a39f-dfb6e45bd983",
      "metadata": {
        "id": "6d3b4f3a-f226-4ea4-a39f-dfb6e45bd983"
      },
      "source": [
        "# Задание 1 (7 баллов)"
      ]
    },
    {
      "cell_type": "markdown",
      "id": "ba5a5046-e619-4e55-8a36-f0e72f7f8d4a",
      "metadata": {
        "id": "ba5a5046-e619-4e55-8a36-f0e72f7f8d4a"
      },
      "source": [
        "В одном из заданий по ML от вас требовалось написать кастомную реализацию Random Forest. Её проблема состоит в том, что она работает медленно, так как использует всего один поток для работы. Добавление параллельного программирования в код позволит получить существенный прирост в скорости обучения и предсказаний.\n",
        "\n",
        "В данном задании от вас требуется добавить возможность обучать случайный лес параллельно и использовать параллелизм для предсказаний. Для этого вам понадобится:\n",
        "1. Добавить аргумент `n_jobs` в метод `fit`. `n_jobs` показывает количество worker'ов, используемых для распараллеливания\n",
        "2. Добавить аргумент `n_jobs` в методы `predict` и `predict_proba`\n",
        "3. Реализовать функционал по распараллеливанию в данных методах\n",
        "\n",
        "В результате код `random_forest.fit(X, y, n_jobs=2)` и `random_forest.predict(X, y, n_jobs=2)` должен работать в ~1.5-2 раза быстрее, чем `random_forest.fit(X, y, n_jobs=1)` и `random_forest.predict(X, y, n_jobs=1)` соответственно\n",
        "\n",
        "Если у вас по каким-то причинам нет кода случайного леса из ДЗ по ML, то вы можете написать его заново или попросить у однокурсника. *Детали* реализации ML части оцениваться не будут, НО, если вы поломаете логику работы алгоритма во время реализации параллелизма, то за это будут сниматься баллы\n",
        "\n",
        "В задании можно использовать только модули из **стандартной библиотеки** питона, а также функции и классы из **sklearn** при помощи которых вы изначально писали лес"
      ]
    },
    {
      "cell_type": "code",
      "execution_count": 21,
      "id": "bd112926",
      "metadata": {},
      "outputs": [],
      "source": [
        "from sklearn.base import BaseEstimator\n",
        "from sklearn.datasets import make_classification\n",
        "import numpy as np"
      ]
    },
    {
      "cell_type": "code",
      "execution_count": 22,
      "id": "60204ed4",
      "metadata": {},
      "outputs": [],
      "source": [
        "from sklearn.tree import DecisionTreeClassifier"
      ]
    },
    {
      "cell_type": "code",
      "execution_count": 23,
      "id": "4a2af218",
      "metadata": {},
      "outputs": [],
      "source": [
        "from concurrent.futures import ProcessPoolExecutor"
      ]
    },
    {
      "cell_type": "code",
      "execution_count": 24,
      "id": "975be4b0",
      "metadata": {},
      "outputs": [],
      "source": [
        "from typing import Optional, Callable\n"
      ]
    },
    {
      "cell_type": "code",
      "execution_count": 25,
      "id": "d1144c11",
      "metadata": {},
      "outputs": [],
      "source": [
        "class RandomForestClassifierCustom(DecisionTreeClassifier):\n",
        "    def __init__(self, n_estimators, max_depth, max_features, random_state):\n",
        "        \"\"\"\n",
        "        Initialize a random forest regressor.\n",
        "\n",
        "        Args:\n",
        "        n_estimators: int\n",
        "            The number of trees in the forest.\n",
        "        max_depth: int\n",
        "            The maximum depth of each tree.\n",
        "        max_features: int\n",
        "            The number of features to consider when looking for the best split.\n",
        "        random_state: int\n",
        "            The seed used by the random number generator.\n",
        "\n",
        "        Attributes:\n",
        "            trees: list of DecisionTreeRegressor\n",
        "                The individual decision trees in the forest.\n",
        "            feat_ids_by_tree: list of ndarray\n",
        "            The indices of the features used by each tree.\n",
        "        \"\"\"\n",
        "        self.n_estimators = n_estimators\n",
        "        self.max_depth = max_depth\n",
        "        self.max_features = max_features\n",
        "        self.random_state = random_state\n",
        "\n",
        "        self.trees = []\n",
        "        self.feat_ids_by_tree = []\n",
        "\n",
        "    def learn_tree(self, data):\n",
        "        \"\"\"\n",
        "        Trains a decision tree classifier on the given data.\n",
        "\n",
        "        Args:\n",
        "            data (tuple): A tuple containing the features (X), labels (y), and random seed to use.\n",
        "\n",
        "        Returns:\n",
        "            clf (DecisionTreeClassifier): A trained decision tree classifier.\n",
        "\n",
        "        \"\"\"\n",
        "        X, y, seed = data\n",
        "        clf = DecisionTreeClassifier(random_state=seed, max_depth=self.max_depth, max_features=self.max_features)\n",
        "        clf.fit(X, y)\n",
        "        return clf\n",
        "\n",
        "    def fit(self, X, y, n_jobs):\n",
        "        \"\"\"\n",
        "        Fits a random forest classifier on the given data.\n",
        "\n",
        "        Args:\n",
        "            X (ndarray): An array of shape (n_samples, n_features) representing the input features.\n",
        "            y (ndarray): An array of shape (n_samples, ) representing the target labels.\n",
        "            n_jobs (int): The number of CPU cores to use for parallel processing.\n",
        "\n",
        "        Returns:\n",
        "            self (RandomForestClassifier): An instance of the trained random forest classifier.\n",
        "        \"\"\"\n",
        "        data = []\n",
        "        for i in range(0, self.n_estimators):\n",
        "            seed = np.random.seed(self.random_state + i)\n",
        "            idx_features = np.random.choice(X.shape[1], self.max_features, replace=False)\n",
        "            self.feat_ids_by_tree.append(idx_features)\n",
        "            idx_obj = np.random.choice(X.shape[0], X.shape[0], replace=True)\n",
        "            X_sample = X[idx_obj, :][:, idx_features]\n",
        "            y_sample = y[idx_obj, ]\n",
        "            data.append((X_sample, y_sample, seed))\n",
        "        with ProcessPoolExecutor(n_jobs) as pool:\n",
        "            self.trees = list(pool.map(self.learn_tree, data))\n",
        "        return self\n",
        "    \n",
        "    \n",
        "    def predict_proba_by_one(self, pair_data):\n",
        "        \"\"\"\n",
        "        Predict the probability of the target class for a bootstrapped sample using the given algorithm.\n",
        "\n",
        "        Args:\n",
        "            pair_data (Tuple): A tuple containing the algorithm and the data point to be predicted.\n",
        "\n",
        "        Returns:\n",
        "            Numpy array: An array of shape (1, n_classes) containing the probability estimates for each class.\n",
        "        \"\"\"\n",
        "        alg, data = pair_data\n",
        "        return alg.predict_proba(data)\n",
        "    \n",
        "\n",
        "    def predict_proba(self, X, n_jobs):\n",
        "        \"\"\"\n",
        "        Predict class probabilities for input data using a forest of decision trees.\n",
        "\n",
        "        Parameters\n",
        "        ----------\n",
        "        X : array-like of shape (n_samples, n_features)\n",
        "        The input data.\n",
        "        n_jobs : int, optional (default=1)\n",
        "        The number of CPU cores to use for parallel processing.\n",
        "\n",
        "        Returns\n",
        "        -------\n",
        "        probas : array of shape (n_samples, n_classes)\n",
        "        The class probabilities for each input sample.\n",
        "        \"\"\"\n",
        "        alg_per_data = []\n",
        "        for i in range(len(self.trees)):\n",
        "            alg_per_data.append((self.trees[i], X[:, self.feat_ids_by_tree[i]]))\n",
        "    \n",
        "        with ProcessPoolExecutor(n_jobs) as pool:\n",
        "            all_prob = list(pool.map(self.predict_proba_by_one, alg_per_data))\n",
        "        probas = np.concatenate(all_prob)\n",
        "        return probas\n",
        "    \n",
        "\n",
        "    def predict(self, X, n_jobs):\n",
        "        \"\"\"\n",
        "        Predicts the class labels for the given input features using the trained random forest classifier.\n",
        "\n",
        "        Args:\n",
        "            X (ndarray): An array of shape (n_samples, n_features) representing the input features.\n",
        "            n_jobs (int): The number of CPU cores to use for parallel processing.\n",
        "\n",
        "        Returns:\n",
        "            predictions (ndarray): An array of shape (n_samples, ) representing the predicted class labels.\n",
        "        \"\"\"\n",
        "        probas = self.predict_proba(X, n_jobs)\n",
        "        predictions = np.argmax(probas, 1)       \n",
        "        return predictions"
      ]
    },
    {
      "cell_type": "code",
      "execution_count": 26,
      "id": "f77a215f",
      "metadata": {},
      "outputs": [],
      "source": [
        "X, y = make_classification(n_samples=100000)"
      ]
    },
    {
      "cell_type": "code",
      "execution_count": 27,
      "id": "5eecd633-1ae5-49fb-8cd0-4fd4ec1d6c24",
      "metadata": {
        "id": "5eecd633-1ae5-49fb-8cd0-4fd4ec1d6c24"
      },
      "outputs": [],
      "source": [
        "random_forest = RandomForestClassifierCustom(max_depth=30, n_estimators=10, max_features=2, random_state=42)"
      ]
    },
    {
      "cell_type": "code",
      "execution_count": 28,
      "id": "85861ddf-1fdd-4dce-8e91-67e2a20e294d",
      "metadata": {
        "id": "85861ddf-1fdd-4dce-8e91-67e2a20e294d",
        "outputId": "e63d176a-ddcf-484e-b8b2-d7bf71150b19"
      },
      "outputs": [
        {
          "name": "stdout",
          "output_type": "stream",
          "text": [
            "CPU times: user 110 ms, sys: 29.1 ms, total: 139 ms\n",
            "Wall time: 4.52 s\n"
          ]
        }
      ],
      "source": [
        "%%time\n",
        "\n",
        "_ = random_forest.fit(X, y, n_jobs=1)"
      ]
    },
    {
      "cell_type": "code",
      "execution_count": 29,
      "id": "fbefb67f",
      "metadata": {},
      "outputs": [
        {
          "name": "stdout",
          "output_type": "stream",
          "text": [
            "CPU times: user 155 ms, sys: 143 ms, total: 299 ms\n",
            "Wall time: 2.59 s\n"
          ]
        }
      ],
      "source": [
        "%%time\n",
        "\n",
        "_ = random_forest.fit(X, y, n_jobs=2)"
      ]
    },
    {
      "cell_type": "code",
      "execution_count": 30,
      "id": "9fae951c",
      "metadata": {},
      "outputs": [
        {
          "name": "stdout",
          "output_type": "stream",
          "text": [
            "CPU times: user 153 ms, sys: 157 ms, total: 310 ms\n",
            "Wall time: 1.5 s\n"
          ]
        }
      ],
      "source": [
        "%%time\n",
        "\n",
        "_ = random_forest.fit(X, y, n_jobs=5)"
      ]
    },
    {
      "cell_type": "code",
      "execution_count": 31,
      "id": "04e62ac4-91d0-4cac-9de9-b4be0b582e7b",
      "metadata": {
        "id": "04e62ac4-91d0-4cac-9de9-b4be0b582e7b",
        "outputId": "1ca4695c-43a2-493c-8c10-e6c813f1de4e"
      },
      "outputs": [
        {
          "name": "stdout",
          "output_type": "stream",
          "text": [
            "CPU times: user 56.9 ms, sys: 142 ms, total: 199 ms\n",
            "Wall time: 261 ms\n"
          ]
        }
      ],
      "source": [
        "%%time\n",
        "\n",
        "preds_1_1 = random_forest.predict_proba(X, n_jobs=1)"
      ]
    },
    {
      "cell_type": "code",
      "execution_count": 32,
      "id": "f8904de7",
      "metadata": {},
      "outputs": [
        {
          "name": "stdout",
          "output_type": "stream",
          "text": [
            "CPU times: user 99.7 ms, sys: 124 ms, total: 223 ms\n",
            "Wall time: 274 ms\n"
          ]
        }
      ],
      "source": [
        "%%time\n",
        "\n",
        "preds_1_2 = random_forest.predict_proba(X, n_jobs=2)"
      ]
    },
    {
      "cell_type": "code",
      "execution_count": 33,
      "id": "c7f01f97-4ad4-4bed-a977-c8bd3ae962fd",
      "metadata": {
        "id": "c7f01f97-4ad4-4bed-a977-c8bd3ae962fd",
        "outputId": "2d291cb6-b320-4c48-fccf-a69e07d36053"
      },
      "outputs": [
        {
          "name": "stdout",
          "output_type": "stream",
          "text": [
            "CPU times: user 51.7 ms, sys: 168 ms, total: 220 ms\n",
            "Wall time: 299 ms\n"
          ]
        }
      ],
      "source": [
        "%%time\n",
        "\n",
        "preds_2_1 = random_forest.predict(X, n_jobs=1)"
      ]
    },
    {
      "cell_type": "code",
      "execution_count": 34,
      "id": "f4f62c8f",
      "metadata": {},
      "outputs": [
        {
          "name": "stdout",
          "output_type": "stream",
          "text": [
            "CPU times: user 88.2 ms, sys: 173 ms, total: 261 ms\n",
            "Wall time: 298 ms\n"
          ]
        }
      ],
      "source": [
        "%%time\n",
        "\n",
        "\n",
        "preds_2_2 = random_forest.predict(X, n_jobs=2)"
      ]
    },
    {
      "cell_type": "code",
      "execution_count": 35,
      "id": "547ba1fd-9535-4267-93f8-3cc927f71e03",
      "metadata": {
        "id": "547ba1fd-9535-4267-93f8-3cc927f71e03",
        "outputId": "05f4ed43-b3c7-4693-fdbe-dc90430fc5f8"
      },
      "outputs": [
        {
          "data": {
            "text/plain": [
              "True"
            ]
          },
          "execution_count": 35,
          "metadata": {},
          "output_type": "execute_result"
        }
      ],
      "source": [
        "(preds_2_1 == preds_2_2).all()   # Количество worker'ов не должно влиять на предсказания"
      ]
    },
    {
      "cell_type": "markdown",
      "id": "0a2ea6af-f73d-436a-94d9-f7310ac9a4e6",
      "metadata": {
        "id": "0a2ea6af-f73d-436a-94d9-f7310ac9a4e6"
      },
      "source": [
        "#### Какие есть недостатки у вашей реализации параллельного Random Forest (если они есть)? Как это можно исправить? Опишите словами, можно без кода (+1 дополнительный балл)"
      ]
    },
    {
      "attachments": {},
      "cell_type": "markdown",
      "id": "19f2f04d-2c35-4d7d-a8fe-7f88d538fb79",
      "metadata": {
        "id": "19f2f04d-2c35-4d7d-a8fe-7f88d538fb79"
      },
      "source": [
        "#### Каждое дерево в рэндом форест можно параллелить, независимо обучая, я же перед тем как обучать собираю пары дерево-данные что занимает O(N) "
      ]
    },
    {
      "cell_type": "markdown",
      "id": "f020bb22-a29e-4e39-aba9-d41e79a80732",
      "metadata": {
        "id": "f020bb22-a29e-4e39-aba9-d41e79a80732"
      },
      "source": [
        "# Задание 2 (9 баллов)"
      ]
    },
    {
      "cell_type": "markdown",
      "id": "e3a8a0d2-f35b-4edb-9fb3-61da119255e9",
      "metadata": {
        "id": "e3a8a0d2-f35b-4edb-9fb3-61da119255e9"
      },
      "source": [
        "Напишите декоратор `memory_limit`, который позволит ограничивать использование памяти декорируемой функцией.\n",
        "\n",
        "Декоратор должен принимать следующие аргументы:\n",
        "1. `soft_limit` - \"мягкий\" лимит использования памяти. При превышении функцией этого лимита должен будет отображён **warning**\n",
        "2. `hard_limit` - \"жёсткий\" лимит использования памяти. При превышении функцией этого лимита должно будет брошено исключение, а функция должна немедленно завершить свою работу\n",
        "3. `poll_interval` - интервал времени (в секундах) между проверками использования памяти\n",
        "\n",
        "Требования:\n",
        "1. Потребление функцией памяти должно отслеживаться **во время выполнения функции**, а не после её завершения\n",
        "2. **warning** при превышении `soft_limit` должен отображаться один раз, даже если функция переходила через этот лимит несколько раз\n",
        "3. Если задать `soft_limit` или `hard_limit` как `None`, то соответствующий лимит должен быть отключён\n",
        "4. Лимиты должны передаваться и отображаться в формате `<number>X`, где `X` - символ, обозначающий порядок единицы измерения памяти (\"B\", \"K\", \"M\", \"G\", \"T\", ...)\n",
        "5. В тексте warning'ов и исключений должен быть указан текщий объём используемой памяти и величина превышенного лимита\n",
        "\n",
        "В задании можно использовать только модули из **стандартной библиотеки** питона, можно писать вспомогательные функции и/или классы\n",
        "\n",
        "В коде ниже для вас предопределены некоторые полезные функции, вы можете ими пользоваться, а можете не пользоваться"
      ]
    },
    {
      "cell_type": "code",
      "execution_count": 36,
      "id": "98fa4668",
      "metadata": {},
      "outputs": [],
      "source": [
        "\n",
        "import os\n",
        "import psutil\n",
        "import time\n",
        "import warnings\n",
        "import threading\n",
        "import signal"
      ]
    },
    {
      "cell_type": "code",
      "execution_count": 37,
      "id": "78299479-f7e3-409c-b144-d9a14bb1715a",
      "metadata": {
        "id": "78299479-f7e3-409c-b144-d9a14bb1715a"
      },
      "outputs": [],
      "source": [
        "\n",
        "\n",
        "def get_memory_usage() -> int:\n",
        "    \"\"\"\n",
        "    Returns the current memory usage of the Python process in bytes.\n",
        "\n",
        "    Uses the psutil library to obtain the memory information of the process\n",
        "    associated with the current process ID (PID). Specifically, it retrieves the\n",
        "    resident set size\" (rss) value of the memory_info() method, which indicates\n",
        "    the total memory usage of the process, including both code and data.\n",
        "\n",
        "    Returns:\n",
        "    An integer representing the memory usage of the process in bytes.\n",
        "    \"\"\"\n",
        "\n",
        "    process = psutil.Process(os.getpid())\n",
        "    mem_info = process.memory_info()\n",
        "    return mem_info.rss\n",
        "\n",
        "\n",
        "def bytes_to_human_readable(n_bytes: int) -> str:\n",
        "    \"\"\"\n",
        "    Converts a number of bytes to a human-readable string representation.\n",
        "\n",
        "    This function takes a number of bytes as an integer argument and returns a \n",
        "    human-readable string representation of that number, expressed in units \n",
        "    of kilobytes (K), megabytes (M), gigabytes (G), terabytes (T), petabytes (P), \n",
        "    exabytes (E), zettabytes (Z), or yottabytes (Y).\n",
        "\n",
        "    Args:\n",
        "        n_bytes (int): An integer representing the number of bytes to be converted.\n",
        "\n",
        "    Returns:\n",
        "        A string representing the human-readable size of the input number of bytes. \n",
        "        If the input is less than 1 kilobyte, the function returns the input as a string.\n",
        "    \"\"\"\n",
        "    symbols = ('K', 'M', 'G', 'T', 'P', 'E', 'Z', 'Y')\n",
        "    prefix = {}\n",
        "    for idx, s in enumerate(symbols):\n",
        "        prefix[s] = 1 << (idx + 1) * 10\n",
        "    for s in reversed(symbols):\n",
        "        if n_bytes >= prefix[s]:\n",
        "            value = float(n_bytes) / prefix[s]\n",
        "            return f\"{value:.2f}{s}\"\n",
        "    return f\"{n_bytes}\"\n",
        "\n",
        "\n"
      ]
    },
    {
      "cell_type": "code",
      "execution_count": 38,
      "id": "893086ef",
      "metadata": {},
      "outputs": [],
      "source": [
        "def convert_to_bytes(size_str: str) -> int:\n",
        "    \"\"\"\n",
        "    Converts a string representing a size of memory to an integer number of bytes.\n",
        "\n",
        "    This function takes a string representing a size in megabytes, with a suffix of either \n",
        "    B (bytes), K (kilobytes), M (megabytes), G (gigabytes), T (terabytes), P (petabytes), \n",
        "    E (exabytes), Z (zettabytes), or Y (yottabytes), and converts it to an integer \n",
        "    representing the number of bytes.\n",
        "\n",
        "    Args:\n",
        "        size_str (str): A string representing a size in megabytes with a size suffix.\n",
        "\n",
        "    Returns:\n",
        "        An integer representing the size in bytes that corresponds to the input string.\n",
        "    \"\"\"\n",
        "\n",
        "    size_suffixes = {'B': 1, 'K': 1024, 'M': 1024**2, 'G': 1024**3, 'T': 1024**4,  \n",
        "                    'P': 1024**5,  'E': 1024**6,  'Z': 1024**7,  'T': 1024**8, }\n",
        "    numeric_part, size_suffix = float(size_str[:-1]), size_str[-1].upper()\n",
        "    size_bytes = numeric_part * size_suffixes[size_suffix]\n",
        "    return int(size_bytes)"
      ]
    },
    {
      "cell_type": "code",
      "execution_count": 39,
      "id": "d0c177d7",
      "metadata": {},
      "outputs": [],
      "source": [
        "class Memory_Usage(threading.Thread):\n",
        "    def __init__(self, get_memory_usage, bytes_to_human_readable, \n",
        "                 convert_megabytes_to_bytes, soft_limit, hard_limit, poll_interval):\n",
        "        \"\"\"\n",
        "        A class to monitor memory usage and raise warnings or terminate the program if memory usage exceeds the specified limits.\n",
        "        Args:\n",
        "            get_memory_usage (function): A function that returns the current memory usage in bytes.\n",
        "            bytes_to_human_readable (function): A function that converts a given number of bytes to a human-readable string format.\n",
        "            convert_megabytes_to_bytes (function): A function that converts a given number of megabytes to bytes.\n",
        "            soft_limit (int): The soft memory usage limit in megabytes. If the memory usage exceeds this limit, a warning is raised.\n",
        "            hard_limit (int): The hard memory usage limit in megabytes. If the memory usage exceeds this limit, the program is terminated.\n",
        "            poll_interval (float): The time interval (in seconds) between successive checks of memory usage.\n",
        "        Methods:\n",
        "        run(): The method that runs the memory usage monitoring process. It continuously checks the current memory usage \n",
        "                and raises warnings or terminates the program if the memory usage exceeds the specified limits.\n",
        "        \"\"\"\n",
        "        super().__init__()    \n",
        "        self.get_memory_usage = get_memory_usage\n",
        "        self.bytes_to_human_readable = bytes_to_human_readable\n",
        "        self.soft_limit = soft_limit\n",
        "        self.hard_limit = hard_limit\n",
        "        self.poll_interval = poll_interval\n",
        "        self.convert_megabytes_to_bytes = convert_megabytes_to_bytes\n",
        "\n",
        "    def run(self):\n",
        "        while True:\n",
        "            bytes = self.get_memory_usage()\n",
        "            if self.hard_limit:\n",
        "                bytes_hard_limit = self.convert_megabytes_to_bytes(self.hard_limit)\n",
        "                if bytes > bytes_hard_limit:\n",
        "                    pid = os.getpid()\n",
        "                    print('Exceed hard limit')\n",
        "                    os.kill(pid, signal.SIGKILL)\n",
        "                    \n",
        "                \n",
        "            if self.soft_limit:\n",
        "                bytes_soft_limit = self.convert_megabytes_to_bytes(self.soft_limit)\n",
        "                if bytes > bytes_soft_limit:\n",
        "                    diff = bytes - bytes_soft_limit\n",
        "                    diff_memory = self.bytes_to_human_readable(diff)\n",
        "                    cur_memory = self.bytes_to_human_readable(bytes)\n",
        "                    report = f'Exceed memory on {diff_memory}, current memory usage:{cur_memory}'\n",
        "                    return warnings.warn(report)\n",
        "            \n",
        "            time.sleep(self.poll_interval)\n",
        "        "
      ]
    },
    {
      "cell_type": "code",
      "execution_count": null,
      "id": "cd4b5608",
      "metadata": {},
      "outputs": [],
      "source": []
    },
    {
      "cell_type": "code",
      "execution_count": 40,
      "id": "4746a23d",
      "metadata": {},
      "outputs": [],
      "source": [
        "def memory_limit(soft_limit: Optional[str], hard_limit: Optional[str], poll_interval: int=10) -> Callable:\n",
        "    def decorator(func):\n",
        "        \"\"\"Decorator function to measure memory usage of a function.\n",
        "\n",
        "        Args:\n",
        "            func (function): The function to measure memory usage of.\n",
        "\n",
        "        Returns:\n",
        "            function: A wrapper function that measures memory usage before and after\n",
        "            calling the given function.\n",
        "        \"\"\"\n",
        "        def wrapper(*args, **kwargs):\n",
        "            memory_thread = Memory_Usage(get_memory_usage, bytes_to_human_readable, convert_megabytes_to_bytes, soft_limit, hard_limit, poll_interval)\n",
        "            memory_thread.start()\n",
        "            func(*args, **kwargs)\n",
        "            return func(*args, **kwargs)\n",
        "        return wrapper\n",
        "    return decorator"
      ]
    },
    {
      "cell_type": "code",
      "execution_count": 41,
      "id": "4ef40989",
      "metadata": {},
      "outputs": [],
      "source": [
        "@memory_limit(soft_limit='10M', hard_limit='10G')\n",
        "def memory_increment() -> list:\n",
        "    lst = []\n",
        "    for i in range(1_000):\n",
        "        if i % 10 == 0:\n",
        "            time.sleep(0.1)\n",
        "        lst.append(i)\n",
        "    return lst"
      ]
    },
    {
      "cell_type": "code",
      "execution_count": 17,
      "id": "f15b2623",
      "metadata": {},
      "outputs": [
        {
          "name": "stderr",
          "output_type": "stream",
          "text": [
            "/tmp/ipykernel_3975/1948554492.py:32: UserWarning: Exceed memory on 60.39M, current memory usage:70.39M\n",
            "  return warnings.warn(report)\n"
          ]
        },
        {
          "data": {
            "text/plain": [
              "[0,\n",
              " 1,\n",
              " 2,\n",
              " 3,\n",
              " 4,\n",
              " 5,\n",
              " 6,\n",
              " 7,\n",
              " 8,\n",
              " 9,\n",
              " 10,\n",
              " 11,\n",
              " 12,\n",
              " 13,\n",
              " 14,\n",
              " 15,\n",
              " 16,\n",
              " 17,\n",
              " 18,\n",
              " 19,\n",
              " 20,\n",
              " 21,\n",
              " 22,\n",
              " 23,\n",
              " 24,\n",
              " 25,\n",
              " 26,\n",
              " 27,\n",
              " 28,\n",
              " 29,\n",
              " 30,\n",
              " 31,\n",
              " 32,\n",
              " 33,\n",
              " 34,\n",
              " 35,\n",
              " 36,\n",
              " 37,\n",
              " 38,\n",
              " 39,\n",
              " 40,\n",
              " 41,\n",
              " 42,\n",
              " 43,\n",
              " 44,\n",
              " 45,\n",
              " 46,\n",
              " 47,\n",
              " 48,\n",
              " 49,\n",
              " 50,\n",
              " 51,\n",
              " 52,\n",
              " 53,\n",
              " 54,\n",
              " 55,\n",
              " 56,\n",
              " 57,\n",
              " 58,\n",
              " 59,\n",
              " 60,\n",
              " 61,\n",
              " 62,\n",
              " 63,\n",
              " 64,\n",
              " 65,\n",
              " 66,\n",
              " 67,\n",
              " 68,\n",
              " 69,\n",
              " 70,\n",
              " 71,\n",
              " 72,\n",
              " 73,\n",
              " 74,\n",
              " 75,\n",
              " 76,\n",
              " 77,\n",
              " 78,\n",
              " 79,\n",
              " 80,\n",
              " 81,\n",
              " 82,\n",
              " 83,\n",
              " 84,\n",
              " 85,\n",
              " 86,\n",
              " 87,\n",
              " 88,\n",
              " 89,\n",
              " 90,\n",
              " 91,\n",
              " 92,\n",
              " 93,\n",
              " 94,\n",
              " 95,\n",
              " 96,\n",
              " 97,\n",
              " 98,\n",
              " 99,\n",
              " 100,\n",
              " 101,\n",
              " 102,\n",
              " 103,\n",
              " 104,\n",
              " 105,\n",
              " 106,\n",
              " 107,\n",
              " 108,\n",
              " 109,\n",
              " 110,\n",
              " 111,\n",
              " 112,\n",
              " 113,\n",
              " 114,\n",
              " 115,\n",
              " 116,\n",
              " 117,\n",
              " 118,\n",
              " 119,\n",
              " 120,\n",
              " 121,\n",
              " 122,\n",
              " 123,\n",
              " 124,\n",
              " 125,\n",
              " 126,\n",
              " 127,\n",
              " 128,\n",
              " 129,\n",
              " 130,\n",
              " 131,\n",
              " 132,\n",
              " 133,\n",
              " 134,\n",
              " 135,\n",
              " 136,\n",
              " 137,\n",
              " 138,\n",
              " 139,\n",
              " 140,\n",
              " 141,\n",
              " 142,\n",
              " 143,\n",
              " 144,\n",
              " 145,\n",
              " 146,\n",
              " 147,\n",
              " 148,\n",
              " 149,\n",
              " 150,\n",
              " 151,\n",
              " 152,\n",
              " 153,\n",
              " 154,\n",
              " 155,\n",
              " 156,\n",
              " 157,\n",
              " 158,\n",
              " 159,\n",
              " 160,\n",
              " 161,\n",
              " 162,\n",
              " 163,\n",
              " 164,\n",
              " 165,\n",
              " 166,\n",
              " 167,\n",
              " 168,\n",
              " 169,\n",
              " 170,\n",
              " 171,\n",
              " 172,\n",
              " 173,\n",
              " 174,\n",
              " 175,\n",
              " 176,\n",
              " 177,\n",
              " 178,\n",
              " 179,\n",
              " 180,\n",
              " 181,\n",
              " 182,\n",
              " 183,\n",
              " 184,\n",
              " 185,\n",
              " 186,\n",
              " 187,\n",
              " 188,\n",
              " 189,\n",
              " 190,\n",
              " 191,\n",
              " 192,\n",
              " 193,\n",
              " 194,\n",
              " 195,\n",
              " 196,\n",
              " 197,\n",
              " 198,\n",
              " 199,\n",
              " 200,\n",
              " 201,\n",
              " 202,\n",
              " 203,\n",
              " 204,\n",
              " 205,\n",
              " 206,\n",
              " 207,\n",
              " 208,\n",
              " 209,\n",
              " 210,\n",
              " 211,\n",
              " 212,\n",
              " 213,\n",
              " 214,\n",
              " 215,\n",
              " 216,\n",
              " 217,\n",
              " 218,\n",
              " 219,\n",
              " 220,\n",
              " 221,\n",
              " 222,\n",
              " 223,\n",
              " 224,\n",
              " 225,\n",
              " 226,\n",
              " 227,\n",
              " 228,\n",
              " 229,\n",
              " 230,\n",
              " 231,\n",
              " 232,\n",
              " 233,\n",
              " 234,\n",
              " 235,\n",
              " 236,\n",
              " 237,\n",
              " 238,\n",
              " 239,\n",
              " 240,\n",
              " 241,\n",
              " 242,\n",
              " 243,\n",
              " 244,\n",
              " 245,\n",
              " 246,\n",
              " 247,\n",
              " 248,\n",
              " 249,\n",
              " 250,\n",
              " 251,\n",
              " 252,\n",
              " 253,\n",
              " 254,\n",
              " 255,\n",
              " 256,\n",
              " 257,\n",
              " 258,\n",
              " 259,\n",
              " 260,\n",
              " 261,\n",
              " 262,\n",
              " 263,\n",
              " 264,\n",
              " 265,\n",
              " 266,\n",
              " 267,\n",
              " 268,\n",
              " 269,\n",
              " 270,\n",
              " 271,\n",
              " 272,\n",
              " 273,\n",
              " 274,\n",
              " 275,\n",
              " 276,\n",
              " 277,\n",
              " 278,\n",
              " 279,\n",
              " 280,\n",
              " 281,\n",
              " 282,\n",
              " 283,\n",
              " 284,\n",
              " 285,\n",
              " 286,\n",
              " 287,\n",
              " 288,\n",
              " 289,\n",
              " 290,\n",
              " 291,\n",
              " 292,\n",
              " 293,\n",
              " 294,\n",
              " 295,\n",
              " 296,\n",
              " 297,\n",
              " 298,\n",
              " 299,\n",
              " 300,\n",
              " 301,\n",
              " 302,\n",
              " 303,\n",
              " 304,\n",
              " 305,\n",
              " 306,\n",
              " 307,\n",
              " 308,\n",
              " 309,\n",
              " 310,\n",
              " 311,\n",
              " 312,\n",
              " 313,\n",
              " 314,\n",
              " 315,\n",
              " 316,\n",
              " 317,\n",
              " 318,\n",
              " 319,\n",
              " 320,\n",
              " 321,\n",
              " 322,\n",
              " 323,\n",
              " 324,\n",
              " 325,\n",
              " 326,\n",
              " 327,\n",
              " 328,\n",
              " 329,\n",
              " 330,\n",
              " 331,\n",
              " 332,\n",
              " 333,\n",
              " 334,\n",
              " 335,\n",
              " 336,\n",
              " 337,\n",
              " 338,\n",
              " 339,\n",
              " 340,\n",
              " 341,\n",
              " 342,\n",
              " 343,\n",
              " 344,\n",
              " 345,\n",
              " 346,\n",
              " 347,\n",
              " 348,\n",
              " 349,\n",
              " 350,\n",
              " 351,\n",
              " 352,\n",
              " 353,\n",
              " 354,\n",
              " 355,\n",
              " 356,\n",
              " 357,\n",
              " 358,\n",
              " 359,\n",
              " 360,\n",
              " 361,\n",
              " 362,\n",
              " 363,\n",
              " 364,\n",
              " 365,\n",
              " 366,\n",
              " 367,\n",
              " 368,\n",
              " 369,\n",
              " 370,\n",
              " 371,\n",
              " 372,\n",
              " 373,\n",
              " 374,\n",
              " 375,\n",
              " 376,\n",
              " 377,\n",
              " 378,\n",
              " 379,\n",
              " 380,\n",
              " 381,\n",
              " 382,\n",
              " 383,\n",
              " 384,\n",
              " 385,\n",
              " 386,\n",
              " 387,\n",
              " 388,\n",
              " 389,\n",
              " 390,\n",
              " 391,\n",
              " 392,\n",
              " 393,\n",
              " 394,\n",
              " 395,\n",
              " 396,\n",
              " 397,\n",
              " 398,\n",
              " 399,\n",
              " 400,\n",
              " 401,\n",
              " 402,\n",
              " 403,\n",
              " 404,\n",
              " 405,\n",
              " 406,\n",
              " 407,\n",
              " 408,\n",
              " 409,\n",
              " 410,\n",
              " 411,\n",
              " 412,\n",
              " 413,\n",
              " 414,\n",
              " 415,\n",
              " 416,\n",
              " 417,\n",
              " 418,\n",
              " 419,\n",
              " 420,\n",
              " 421,\n",
              " 422,\n",
              " 423,\n",
              " 424,\n",
              " 425,\n",
              " 426,\n",
              " 427,\n",
              " 428,\n",
              " 429,\n",
              " 430,\n",
              " 431,\n",
              " 432,\n",
              " 433,\n",
              " 434,\n",
              " 435,\n",
              " 436,\n",
              " 437,\n",
              " 438,\n",
              " 439,\n",
              " 440,\n",
              " 441,\n",
              " 442,\n",
              " 443,\n",
              " 444,\n",
              " 445,\n",
              " 446,\n",
              " 447,\n",
              " 448,\n",
              " 449,\n",
              " 450,\n",
              " 451,\n",
              " 452,\n",
              " 453,\n",
              " 454,\n",
              " 455,\n",
              " 456,\n",
              " 457,\n",
              " 458,\n",
              " 459,\n",
              " 460,\n",
              " 461,\n",
              " 462,\n",
              " 463,\n",
              " 464,\n",
              " 465,\n",
              " 466,\n",
              " 467,\n",
              " 468,\n",
              " 469,\n",
              " 470,\n",
              " 471,\n",
              " 472,\n",
              " 473,\n",
              " 474,\n",
              " 475,\n",
              " 476,\n",
              " 477,\n",
              " 478,\n",
              " 479,\n",
              " 480,\n",
              " 481,\n",
              " 482,\n",
              " 483,\n",
              " 484,\n",
              " 485,\n",
              " 486,\n",
              " 487,\n",
              " 488,\n",
              " 489,\n",
              " 490,\n",
              " 491,\n",
              " 492,\n",
              " 493,\n",
              " 494,\n",
              " 495,\n",
              " 496,\n",
              " 497,\n",
              " 498,\n",
              " 499,\n",
              " 500,\n",
              " 501,\n",
              " 502,\n",
              " 503,\n",
              " 504,\n",
              " 505,\n",
              " 506,\n",
              " 507,\n",
              " 508,\n",
              " 509,\n",
              " 510,\n",
              " 511,\n",
              " 512,\n",
              " 513,\n",
              " 514,\n",
              " 515,\n",
              " 516,\n",
              " 517,\n",
              " 518,\n",
              " 519,\n",
              " 520,\n",
              " 521,\n",
              " 522,\n",
              " 523,\n",
              " 524,\n",
              " 525,\n",
              " 526,\n",
              " 527,\n",
              " 528,\n",
              " 529,\n",
              " 530,\n",
              " 531,\n",
              " 532,\n",
              " 533,\n",
              " 534,\n",
              " 535,\n",
              " 536,\n",
              " 537,\n",
              " 538,\n",
              " 539,\n",
              " 540,\n",
              " 541,\n",
              " 542,\n",
              " 543,\n",
              " 544,\n",
              " 545,\n",
              " 546,\n",
              " 547,\n",
              " 548,\n",
              " 549,\n",
              " 550,\n",
              " 551,\n",
              " 552,\n",
              " 553,\n",
              " 554,\n",
              " 555,\n",
              " 556,\n",
              " 557,\n",
              " 558,\n",
              " 559,\n",
              " 560,\n",
              " 561,\n",
              " 562,\n",
              " 563,\n",
              " 564,\n",
              " 565,\n",
              " 566,\n",
              " 567,\n",
              " 568,\n",
              " 569,\n",
              " 570,\n",
              " 571,\n",
              " 572,\n",
              " 573,\n",
              " 574,\n",
              " 575,\n",
              " 576,\n",
              " 577,\n",
              " 578,\n",
              " 579,\n",
              " 580,\n",
              " 581,\n",
              " 582,\n",
              " 583,\n",
              " 584,\n",
              " 585,\n",
              " 586,\n",
              " 587,\n",
              " 588,\n",
              " 589,\n",
              " 590,\n",
              " 591,\n",
              " 592,\n",
              " 593,\n",
              " 594,\n",
              " 595,\n",
              " 596,\n",
              " 597,\n",
              " 598,\n",
              " 599,\n",
              " 600,\n",
              " 601,\n",
              " 602,\n",
              " 603,\n",
              " 604,\n",
              " 605,\n",
              " 606,\n",
              " 607,\n",
              " 608,\n",
              " 609,\n",
              " 610,\n",
              " 611,\n",
              " 612,\n",
              " 613,\n",
              " 614,\n",
              " 615,\n",
              " 616,\n",
              " 617,\n",
              " 618,\n",
              " 619,\n",
              " 620,\n",
              " 621,\n",
              " 622,\n",
              " 623,\n",
              " 624,\n",
              " 625,\n",
              " 626,\n",
              " 627,\n",
              " 628,\n",
              " 629,\n",
              " 630,\n",
              " 631,\n",
              " 632,\n",
              " 633,\n",
              " 634,\n",
              " 635,\n",
              " 636,\n",
              " 637,\n",
              " 638,\n",
              " 639,\n",
              " 640,\n",
              " 641,\n",
              " 642,\n",
              " 643,\n",
              " 644,\n",
              " 645,\n",
              " 646,\n",
              " 647,\n",
              " 648,\n",
              " 649,\n",
              " 650,\n",
              " 651,\n",
              " 652,\n",
              " 653,\n",
              " 654,\n",
              " 655,\n",
              " 656,\n",
              " 657,\n",
              " 658,\n",
              " 659,\n",
              " 660,\n",
              " 661,\n",
              " 662,\n",
              " 663,\n",
              " 664,\n",
              " 665,\n",
              " 666,\n",
              " 667,\n",
              " 668,\n",
              " 669,\n",
              " 670,\n",
              " 671,\n",
              " 672,\n",
              " 673,\n",
              " 674,\n",
              " 675,\n",
              " 676,\n",
              " 677,\n",
              " 678,\n",
              " 679,\n",
              " 680,\n",
              " 681,\n",
              " 682,\n",
              " 683,\n",
              " 684,\n",
              " 685,\n",
              " 686,\n",
              " 687,\n",
              " 688,\n",
              " 689,\n",
              " 690,\n",
              " 691,\n",
              " 692,\n",
              " 693,\n",
              " 694,\n",
              " 695,\n",
              " 696,\n",
              " 697,\n",
              " 698,\n",
              " 699,\n",
              " 700,\n",
              " 701,\n",
              " 702,\n",
              " 703,\n",
              " 704,\n",
              " 705,\n",
              " 706,\n",
              " 707,\n",
              " 708,\n",
              " 709,\n",
              " 710,\n",
              " 711,\n",
              " 712,\n",
              " 713,\n",
              " 714,\n",
              " 715,\n",
              " 716,\n",
              " 717,\n",
              " 718,\n",
              " 719,\n",
              " 720,\n",
              " 721,\n",
              " 722,\n",
              " 723,\n",
              " 724,\n",
              " 725,\n",
              " 726,\n",
              " 727,\n",
              " 728,\n",
              " 729,\n",
              " 730,\n",
              " 731,\n",
              " 732,\n",
              " 733,\n",
              " 734,\n",
              " 735,\n",
              " 736,\n",
              " 737,\n",
              " 738,\n",
              " 739,\n",
              " 740,\n",
              " 741,\n",
              " 742,\n",
              " 743,\n",
              " 744,\n",
              " 745,\n",
              " 746,\n",
              " 747,\n",
              " 748,\n",
              " 749,\n",
              " 750,\n",
              " 751,\n",
              " 752,\n",
              " 753,\n",
              " 754,\n",
              " 755,\n",
              " 756,\n",
              " 757,\n",
              " 758,\n",
              " 759,\n",
              " 760,\n",
              " 761,\n",
              " 762,\n",
              " 763,\n",
              " 764,\n",
              " 765,\n",
              " 766,\n",
              " 767,\n",
              " 768,\n",
              " 769,\n",
              " 770,\n",
              " 771,\n",
              " 772,\n",
              " 773,\n",
              " 774,\n",
              " 775,\n",
              " 776,\n",
              " 777,\n",
              " 778,\n",
              " 779,\n",
              " 780,\n",
              " 781,\n",
              " 782,\n",
              " 783,\n",
              " 784,\n",
              " 785,\n",
              " 786,\n",
              " 787,\n",
              " 788,\n",
              " 789,\n",
              " 790,\n",
              " 791,\n",
              " 792,\n",
              " 793,\n",
              " 794,\n",
              " 795,\n",
              " 796,\n",
              " 797,\n",
              " 798,\n",
              " 799,\n",
              " 800,\n",
              " 801,\n",
              " 802,\n",
              " 803,\n",
              " 804,\n",
              " 805,\n",
              " 806,\n",
              " 807,\n",
              " 808,\n",
              " 809,\n",
              " 810,\n",
              " 811,\n",
              " 812,\n",
              " 813,\n",
              " 814,\n",
              " 815,\n",
              " 816,\n",
              " 817,\n",
              " 818,\n",
              " 819,\n",
              " 820,\n",
              " 821,\n",
              " 822,\n",
              " 823,\n",
              " 824,\n",
              " 825,\n",
              " 826,\n",
              " 827,\n",
              " 828,\n",
              " 829,\n",
              " 830,\n",
              " 831,\n",
              " 832,\n",
              " 833,\n",
              " 834,\n",
              " 835,\n",
              " 836,\n",
              " 837,\n",
              " 838,\n",
              " 839,\n",
              " 840,\n",
              " 841,\n",
              " 842,\n",
              " 843,\n",
              " 844,\n",
              " 845,\n",
              " 846,\n",
              " 847,\n",
              " 848,\n",
              " 849,\n",
              " 850,\n",
              " 851,\n",
              " 852,\n",
              " 853,\n",
              " 854,\n",
              " 855,\n",
              " 856,\n",
              " 857,\n",
              " 858,\n",
              " 859,\n",
              " 860,\n",
              " 861,\n",
              " 862,\n",
              " 863,\n",
              " 864,\n",
              " 865,\n",
              " 866,\n",
              " 867,\n",
              " 868,\n",
              " 869,\n",
              " 870,\n",
              " 871,\n",
              " 872,\n",
              " 873,\n",
              " 874,\n",
              " 875,\n",
              " 876,\n",
              " 877,\n",
              " 878,\n",
              " 879,\n",
              " 880,\n",
              " 881,\n",
              " 882,\n",
              " 883,\n",
              " 884,\n",
              " 885,\n",
              " 886,\n",
              " 887,\n",
              " 888,\n",
              " 889,\n",
              " 890,\n",
              " 891,\n",
              " 892,\n",
              " 893,\n",
              " 894,\n",
              " 895,\n",
              " 896,\n",
              " 897,\n",
              " 898,\n",
              " 899,\n",
              " 900,\n",
              " 901,\n",
              " 902,\n",
              " 903,\n",
              " 904,\n",
              " 905,\n",
              " 906,\n",
              " 907,\n",
              " 908,\n",
              " 909,\n",
              " 910,\n",
              " 911,\n",
              " 912,\n",
              " 913,\n",
              " 914,\n",
              " 915,\n",
              " 916,\n",
              " 917,\n",
              " 918,\n",
              " 919,\n",
              " 920,\n",
              " 921,\n",
              " 922,\n",
              " 923,\n",
              " 924,\n",
              " 925,\n",
              " 926,\n",
              " 927,\n",
              " 928,\n",
              " 929,\n",
              " 930,\n",
              " 931,\n",
              " 932,\n",
              " 933,\n",
              " 934,\n",
              " 935,\n",
              " 936,\n",
              " 937,\n",
              " 938,\n",
              " 939,\n",
              " 940,\n",
              " 941,\n",
              " 942,\n",
              " 943,\n",
              " 944,\n",
              " 945,\n",
              " 946,\n",
              " 947,\n",
              " 948,\n",
              " 949,\n",
              " 950,\n",
              " 951,\n",
              " 952,\n",
              " 953,\n",
              " 954,\n",
              " 955,\n",
              " 956,\n",
              " 957,\n",
              " 958,\n",
              " 959,\n",
              " 960,\n",
              " 961,\n",
              " 962,\n",
              " 963,\n",
              " 964,\n",
              " 965,\n",
              " 966,\n",
              " 967,\n",
              " 968,\n",
              " 969,\n",
              " 970,\n",
              " 971,\n",
              " 972,\n",
              " 973,\n",
              " 974,\n",
              " 975,\n",
              " 976,\n",
              " 977,\n",
              " 978,\n",
              " 979,\n",
              " 980,\n",
              " 981,\n",
              " 982,\n",
              " 983,\n",
              " 984,\n",
              " 985,\n",
              " 986,\n",
              " 987,\n",
              " 988,\n",
              " 989,\n",
              " 990,\n",
              " 991,\n",
              " 992,\n",
              " 993,\n",
              " 994,\n",
              " 995,\n",
              " 996,\n",
              " 997,\n",
              " 998,\n",
              " 999]"
            ]
          },
          "execution_count": 17,
          "metadata": {},
          "output_type": "execute_result"
        }
      ],
      "source": [
        "memory_increment()"
      ]
    },
    {
      "cell_type": "code",
      "execution_count": 28,
      "id": "f28a088a",
      "metadata": {},
      "outputs": [],
      "source": [
        "@memory_limit(soft_limit='100M', hard_limit='1G', poll_interval=10)\n",
        "def memory_increment() -> list:\n",
        "    lst = []\n",
        "    for i in range(1_000_000_000):\n",
        "        if i % 100000 == 0:\n",
        "            time.sleep(0.1)\n",
        "        lst.append(i)\n",
        "    return lst"
      ]
    },
    {
      "cell_type": "code",
      "execution_count": 29,
      "id": "70283cac",
      "metadata": {},
      "outputs": [
        {
          "name": "stderr",
          "output_type": "stream",
          "text": [
            "/tmp/ipykernel_3975/1948554492.py:32: UserWarning: Exceed memory on 619.27M, current memory usage:719.27M\n",
            "  return warnings.warn(report)\n"
          ]
        },
        {
          "ename": "",
          "evalue": "",
          "output_type": "error",
          "traceback": [
            "\u001b[1;31mCanceled future for execute_request message before replies were done"
          ]
        },
        {
          "ename": "",
          "evalue": "",
          "output_type": "error",
          "traceback": [
            "\u001b[1;31mThe Kernel crashed while executing code in the the current cell or a previous cell. Please review the code in the cell(s) to identify a possible cause of the failure. Click <a href='https://aka.ms/vscodeJupyterKernelCrash'>here</a> for more info. View Jupyter <a href='command:jupyter.viewOutput'>log</a> for further details."
          ]
        }
      ],
      "source": [
        "memory_increment()   "
      ]
    },
    {
      "attachments": {},
      "cell_type": "markdown",
      "id": "6feb2ee6",
      "metadata": {},
      "source": [
        "##### Видимо - это особенность ноутбука - лог при при превышении hard limit не принтуется.\n",
        "##### Делал - аналогичный код в скрипте - все было хорошо. Лог -> заверешение процесса. "
      ]
    },
    {
      "cell_type": "markdown",
      "id": "dba2396f",
      "metadata": {},
      "source": []
    },
    {
      "attachments": {},
      "cell_type": "markdown",
      "id": "99f20597",
      "metadata": {},
      "source": [
        "#### Задание 3 - не делал"
      ]
    },
    {
      "cell_type": "markdown",
      "id": "4bf0a185-3fd7-4d48-bfeb-cf6ce8b12893",
      "metadata": {
        "id": "4bf0a185-3fd7-4d48-bfeb-cf6ce8b12893"
      },
      "source": [
        "# Задание 3 (11 баллов)"
      ]
    },
    {
      "cell_type": "markdown",
      "id": "77eec6f5-3d52-43fc-b241-9114eb9c813c",
      "metadata": {
        "id": "77eec6f5-3d52-43fc-b241-9114eb9c813c"
      },
      "source": [
        "Напишите функцию `parallel_map`. Это должна быть **универсальная** функция для распараллеливания, которая эффективно работает в любых условиях.\n",
        "\n",
        "Функция должна принимать следующие аргументы:\n",
        "1. `target_func` - целевая функция (обязательный аргумент)\n",
        "2. `args_container` - контейнер с позиционными аргументами для `target_func` (по-умолчанию `None` - позиционные аргументы не передаются)\n",
        "3. `kwargs_container` - контейнер с именованными аргументами для `target_func` (по-умолчанию `None` - именованные аргументы не передаются)\n",
        "4. `n_jobs` - количество workers, которые будут использованы для выполнения (по-умолчанию `None` - количество логических ядер CPU в системе)\n",
        "\n",
        "Функция должна работать аналогично `***PoolExecutor.map`, применяя функцию к переданному набору аргументов, но с некоторыми дополнениями и улучшениями\n",
        "    \n",
        "Поскольку мы пишем **универсальную** функцию, то нам нужно будет выполнить ряд требований, чтобы она могла логично и эффективно работать в большинстве ситуаций\n",
        "\n",
        "1. `target_func` может принимать аргументы любого вида в любом количестве\n",
        "2. Любые типы данных в `args_container`, кроме `tuple`, передаются в `target_func` как единственный позиционный аргумент. `tuple` распаковываются в несколько аргументов\n",
        "3. Количество элементов в `args_container` должно совпадать с количеством элементов в `kwargs_container` и наоборот, также значение одного из них или обоих может быть равно `None`, в иных случаях должна кидаться ошибка (оба аргумента переданы, но размеры не совпадают)\n",
        "\n",
        "4. Функция должна выполнять определённое количество параллельных вызовов `target_func`, это количество зависит от числа переданных аргументов и значения `n_jobs`. Сценарии могут быть следующие\n",
        "    + `args_container=None`, `kwargs_container=None`, `n_jobs=None`. В таком случае функция `target_func` выполнится параллельно столько раз, сколько на вашем устройстве логических ядер CPU\n",
        "    + `args_container=None`, `kwargs_container=None`, `n_jobs=5`. В таком случае функция `target_func` выполнится параллельно **5** раз\n",
        "    + `args_container=[1, 2, 3]`, `kwargs_container=None`, `n_jobs=5`. В таком случае функция `target_func` выполнится параллельно **3** раза, несмотря на то, что `n_jobs=5` (так как есть всего 3 набора аргументов для которых нам нужно получить результат, а лишние worker'ы создавать не имеет смысла)\n",
        "    + `args_container=None`, `kwargs_container=[{\"s\": 1}, {\"s\": 2}, {\"s\": 3}]`, `n_jobs=5`. Данный случай аналогичен предыдущему, но здесь мы используем именованные аргументы\n",
        "    + `args_container=[1, 2, 3]`, `kwargs_container=[{\"s\": 1}, {\"s\": 2}, {\"s\": 3}]`, `n_jobs=5`. Данный случай аналогичен предыдущему, но здесь мы используем и позиционные, и именованные аргументы\n",
        "    + `args_container=[1, 2, 3, 4]`, `kwargs_container=None`, `n_jobs=2`. В таком случае в каждый момент времени параллельно будет выполняться **не более 2** функций `target_func`, так как нам нужно выполнить её 4 раза, но у нас есть только 2 worker'а.\n",
        "    + В подобных случаях (из примера выше) должно оптимизироваться время выполнения. Если эти 4 вызова выполняются за 5, 1, 2 и 1 секунды, то параллельное выполнение с `n_jobs=2` должно занять **5 секунд** (не 7 и тем более не 10)\n",
        "\n",
        "5. `parallel_map` возвращает результаты выполнения `target_func` **в том же порядке**, в котором были переданы соответствующие аргументы\n",
        "6. Работает с функциями, созданными внутри других функций\n",
        "\n",
        "Для базового решения от вас не ожидается **сверххорошая** оптимизация по времени и памяти для всех возможных случаев. Однако за хорошо оптимизированную логику работы можно получить до **+3 дополнительных баллов**\n",
        "\n",
        "Вы можете сделать класс вместо функции, если вам удобнее\n",
        "\n",
        "В задании можно использовать только модули из **стандартной библиотеки** питона\n",
        "\n",
        "Ниже приведены тестовые примеры по каждому из требований"
      ]
    },
    {
      "cell_type": "code",
      "execution_count": null,
      "id": "a917005b-bc1e-4229-9eef-d33bfe7050c2",
      "metadata": {
        "id": "a917005b-bc1e-4229-9eef-d33bfe7050c2"
      },
      "outputs": [],
      "source": [
        "def parallel_map(target_func,\n",
        "                 args_container=None,\n",
        "                 kwargs_container=None,\n",
        "                 n_jobs=None):\n",
        "    # Ваш код здесь"
      ]
    },
    {
      "cell_type": "code",
      "execution_count": null,
      "id": "0f41b1c8-0d26-483e-8114-1e7638006e34",
      "metadata": {
        "id": "0f41b1c8-0d26-483e-8114-1e7638006e34"
      },
      "outputs": [],
      "source": [
        "import time\n",
        "\n",
        "\n",
        "# Это только один пример тестовой функции, ваша parallel_map должна уметь эффективно работать с ЛЮБЫМИ функциями\n",
        "# Поэтому обязательно протестируйте код на чём-нибудбь ещё\n",
        "def test_func(x=1, s=2, a=1, b=1, c=1):\n",
        "    time.sleep(s)\n",
        "    return a*x**2 + b*x + c"
      ]
    },
    {
      "cell_type": "code",
      "execution_count": null,
      "id": "54d48c99-6e8a-4990-8944-e5da424efdbd",
      "metadata": {
        "id": "54d48c99-6e8a-4990-8944-e5da424efdbd",
        "outputId": "b52d3126-1a09-401b-d76c-2f53dc2be60f"
      },
      "outputs": [
        {
          "name": "stdout",
          "output_type": "stream",
          "text": [
            "CPU times: user 395 µs, sys: 8.26 ms, total: 8.65 ms\n",
            "Wall time: 2.01 s\n"
          ]
        },
        {
          "data": {
            "text/plain": [
              "[3, 7.0, (-8-3j), 21]"
            ]
          },
          "execution_count": 157,
          "metadata": {},
          "output_type": "execute_result"
        }
      ],
      "source": [
        "%%time\n",
        "\n",
        "# Пример 2.1\n",
        "# Отдельные значения в args_container передаются в качестве позиционных аргументов\n",
        "parallel_map(test_func, args_container=[1, 2.0, 3j-1, 4])   # Здесь происходят параллельные вызовы: test_func(1) test_func(2.0) test_func(3j-1) test_func(4)"
      ]
    },
    {
      "cell_type": "code",
      "execution_count": null,
      "id": "dd0da716-5bbf-4925-b87a-7efe82c51cf9",
      "metadata": {
        "id": "dd0da716-5bbf-4925-b87a-7efe82c51cf9",
        "outputId": "b7be55c6-2a6c-423f-acea-d35842566840"
      },
      "outputs": [
        {
          "name": "stdout",
          "output_type": "stream",
          "text": [
            "CPU times: user 7.18 ms, sys: 7.73 ms, total: 14.9 ms\n",
            "Wall time: 3.01 s\n"
          ]
        },
        {
          "data": {
            "text/plain": [
              "[3, 7.0, (-8-3j), 21]"
            ]
          },
          "execution_count": 158,
          "metadata": {},
          "output_type": "execute_result"
        }
      ],
      "source": [
        "%%time\n",
        "\n",
        "# Пример 2.2\n",
        "# Элементы типа tuple в args_container распаковываются в качестве позиционных аргументов\n",
        "parallel_map(test_func, [(1, 1), (2.0, 2), (3j-1, 3), 4])    # Здесь происходят параллельные вызовы: test_func(1, 1) test_func(2.0, 2) test_func(3j-1, 3) test_func(4)"
      ]
    },
    {
      "cell_type": "code",
      "execution_count": null,
      "id": "e2a0e6fd-1d92-4f06-9e4b-51290501c2da",
      "metadata": {
        "id": "e2a0e6fd-1d92-4f06-9e4b-51290501c2da",
        "outputId": "e036abc4-0931-4726-d524-aa976583401b"
      },
      "outputs": [
        {
          "name": "stdout",
          "output_type": "stream",
          "text": [
            "CPU times: user 5.89 ms, sys: 8.84 ms, total: 14.7 ms\n",
            "Wall time: 3.02 s\n"
          ]
        },
        {
          "data": {
            "text/plain": [
              "[3, 7, 13, 21]"
            ]
          },
          "execution_count": 159,
          "metadata": {},
          "output_type": "execute_result"
        }
      ],
      "source": [
        "%%time\n",
        "\n",
        "# Пример 3.1\n",
        "# Возможна одновременная передача args_container и kwargs_container, но количества элементов в них должны быть равны\n",
        "parallel_map(test_func,\n",
        "             args_container=[1, 2, 3, 4],\n",
        "             kwargs_container=[{\"s\": 3}, {\"s\": 3}, {\"s\": 3}, {\"s\": 3}])\n",
        "\n",
        "# Здесь происходят параллельные вызовы: test_func(1, s=3) test_func(2, s=3) test_func(3, s=3) test_func(4, s=3)"
      ]
    },
    {
      "cell_type": "code",
      "execution_count": null,
      "id": "34cda7e6-b24a-4564-958f-c4cf20b7ed7c",
      "metadata": {
        "id": "34cda7e6-b24a-4564-958f-c4cf20b7ed7c",
        "outputId": "3a95419d-64e4-4ede-9007-2a8fc2110119"
      },
      "outputs": [
        {
          "name": "stdout",
          "output_type": "stream",
          "text": [
            "CPU times: user 6.54 ms, sys: 6.06 ms, total: 12.6 ms\n",
            "Wall time: 3.02 s\n"
          ]
        },
        {
          "data": {
            "text/plain": [
              "[3, 3, 3, 3]"
            ]
          },
          "execution_count": 42,
          "metadata": {},
          "output_type": "execute_result"
        }
      ],
      "source": [
        "%%time\n",
        "\n",
        "# Пример 3.2\n",
        "# args_container может быть None, а kwargs_container задан явно\n",
        "parallel_map(test_func,\n",
        "             kwargs_container=[{\"s\": 3}, {\"s\": 3}, {\"s\": 3}, {\"s\": 3}])"
      ]
    },
    {
      "cell_type": "code",
      "execution_count": null,
      "id": "e75853e1-1ed8-43c5-b045-e30dd34a9f34",
      "metadata": {
        "id": "e75853e1-1ed8-43c5-b045-e30dd34a9f34",
        "outputId": "59f31c74-f915-45eb-fad2-5186dc304369"
      },
      "outputs": [
        {
          "name": "stdout",
          "output_type": "stream",
          "text": [
            "CPU times: user 4.11 ms, sys: 9.2 ms, total: 13.3 ms\n",
            "Wall time: 2.01 s\n"
          ]
        },
        {
          "data": {
            "text/plain": [
              "[3, 7, 13, 21]"
            ]
          },
          "execution_count": 43,
          "metadata": {},
          "output_type": "execute_result"
        }
      ],
      "source": [
        "%%time\n",
        "\n",
        "# Пример 3.3\n",
        "# kwargs_container может быть None, а args_container задан явно\n",
        "parallel_map(test_func,\n",
        "             args_container=[1, 2, 3, 4])"
      ]
    },
    {
      "cell_type": "code",
      "execution_count": null,
      "id": "55bd628f-0456-4b3f-8cea-ccbfc0e0dd72",
      "metadata": {
        "id": "55bd628f-0456-4b3f-8cea-ccbfc0e0dd72",
        "outputId": "d0747830-29b0-4d51-9a2f-8e84dd18c773"
      },
      "outputs": [
        {
          "name": "stdout",
          "output_type": "stream",
          "text": [
            "CPU times: user 500 µs, sys: 43.3 ms, total: 43.8 ms\n",
            "Wall time: 2.04 s\n"
          ]
        },
        {
          "data": {
            "text/plain": [
              "[3, 3, 3, 3, 3, 3, 3, 3, 3, 3, 3, 3, 3, 3, 3, 3, 3, 3, 3, 3, 3, 3, 3, 3]"
            ]
          },
          "execution_count": 44,
          "metadata": {},
          "output_type": "execute_result"
        }
      ],
      "source": [
        "%%time\n",
        "\n",
        "# Пример 3.4\n",
        "# И kwargs_container, и args_container могут быть не заданы\n",
        "parallel_map(test_func)"
      ]
    },
    {
      "cell_type": "code",
      "execution_count": null,
      "id": "2aa43efd-6628-46e3-970a-018be26fef3f",
      "metadata": {
        "id": "2aa43efd-6628-46e3-970a-018be26fef3f",
        "outputId": "73d54dfd-8340-471b-eacc-2f0fff30bf72"
      },
      "outputs": [
        {
          "name": "stdout",
          "output_type": "stream",
          "text": [
            "CPU times: user 500 µs, sys: 43.3 ms, total: 43.8 ms\n",
            "Wall time: 2.04 s\n"
          ]
        },
        {
          "data": {
            "text/plain": [
              "[3, 3, 3, 3, 3, 3, 3, 3, 3, 3, 3, 3, 3, 3, 3, 3, 3, 3, 3, 3, 3, 3, 3, 3]"
            ]
          },
          "execution_count": 44,
          "metadata": {},
          "output_type": "execute_result"
        }
      ],
      "source": [
        "%%time\n",
        "\n",
        "# Пример 3.4\n",
        "# И kwargs_container, и args_container могут быть не заданы\n",
        "parallel_map(test_func)"
      ]
    },
    {
      "cell_type": "code",
      "execution_count": null,
      "id": "bcdf8016-8363-4876-b05d-d1b536261f01",
      "metadata": {
        "id": "bcdf8016-8363-4876-b05d-d1b536261f01",
        "outputId": "7104b861-798c-4df6-8e4e-59f50c5c274d"
      },
      "outputs": [
        {
          "ename": "ValueError",
          "evalue": "Numbers of positional arguments and keyword arguments do not match: 4 and 3",
          "output_type": "error",
          "traceback": [
            "\u001b[0;31m---------------------------------------------------------------------------\u001b[0m",
            "\u001b[0;31mValueError\u001b[0m                                Traceback (most recent call last)",
            "File \u001b[0;32m<timed exec>:8\u001b[0m, in \u001b[0;36m<module>\u001b[0;34m\u001b[0m\n",
            "\u001b[0;31mValueError\u001b[0m: Numbers of positional arguments and keyword arguments do not match: 4 and 3"
          ]
        }
      ],
      "source": [
        "%%time\n",
        "\n",
        "# Пример 3.5\n",
        "# При несовпадении количеств позиционных и именованных аргументов кидается ошибка\n",
        "parallel_map(test_func,\n",
        "             args_container=[1, 2, 3, 4],\n",
        "             kwargs_container=[{\"s\": 3}, {\"s\": 3}, {\"s\": 3}])"
      ]
    },
    {
      "cell_type": "code",
      "execution_count": null,
      "id": "115e5fea-0692-424e-acb5-e2d97391bad5",
      "metadata": {
        "id": "115e5fea-0692-424e-acb5-e2d97391bad5",
        "outputId": "a679be9b-852d-4a91-9956-09db7e7a032f"
      },
      "outputs": [
        {
          "name": "stdout",
          "output_type": "stream",
          "text": [
            "CPU times: user 9.3 ms, sys: 51.2 ms, total: 60.5 ms\n",
            "Wall time: 2.06 s\n"
          ]
        },
        {
          "data": {
            "text/plain": [
              "[3, 3, 3, 3, 3, 3, 3, 3, 3, 3, 3, 3, 3, 3, 3, 3, 3, 3, 3, 3, 3, 3, 3, 3]"
            ]
          },
          "execution_count": 45,
          "metadata": {},
          "output_type": "execute_result"
        }
      ],
      "source": [
        "%%time\n",
        "\n",
        "# Пример 4.1\n",
        "# Если функция не имеет обязательных аргументов и аргумент n_jobs не был передан, то она выполняется параллельно столько раз, сколько ваш CPU имеет логических ядер\n",
        "# В моём случае это 24, у вас может быть больше или меньше\n",
        "parallel_map(test_func)"
      ]
    },
    {
      "cell_type": "code",
      "execution_count": null,
      "id": "212fcdbe-a9f3-4eba-8d3f-7da0b853bffd",
      "metadata": {
        "id": "212fcdbe-a9f3-4eba-8d3f-7da0b853bffd",
        "outputId": "4ffcdb96-2303-442c-9a98-633fd6f638d7"
      },
      "outputs": [
        {
          "name": "stdout",
          "output_type": "stream",
          "text": [
            "CPU times: user 2.06 ms, sys: 5.92 ms, total: 7.99 ms\n",
            "Wall time: 2.01 s\n"
          ]
        },
        {
          "data": {
            "text/plain": [
              "[3, 3]"
            ]
          },
          "execution_count": 47,
          "metadata": {},
          "output_type": "execute_result"
        }
      ],
      "source": [
        "%%time\n",
        "\n",
        "# Пример 4.2\n",
        "# Если функция не имеет обязательных аргументов и передан только аргумент n_jobs, то она выполняется параллельно n_jobs раз\n",
        "parallel_map(test_func, n_jobs=2)"
      ]
    },
    {
      "cell_type": "code",
      "execution_count": null,
      "id": "202675af-11b9-485c-baa4-cc1ef8eb919d",
      "metadata": {
        "id": "202675af-11b9-485c-baa4-cc1ef8eb919d",
        "outputId": "bfc9cfec-8c73-4400-c119-8e430e7ef1b6"
      },
      "outputs": [
        {
          "name": "stdout",
          "output_type": "stream",
          "text": [
            "CPU times: user 314 µs, sys: 8.69 ms, total: 9 ms\n",
            "Wall time: 2.01 s\n"
          ]
        },
        {
          "data": {
            "text/plain": [
              "[3, 7, 13]"
            ]
          },
          "execution_count": 48,
          "metadata": {},
          "output_type": "execute_result"
        }
      ],
      "source": [
        "%%time\n",
        "\n",
        "# Пример 4.3\n",
        "# Если аргументов для target_func указано МЕНЬШЕ, чем n_jobs, то используется такое же количество worker'ов, сколько было передано аргументов\n",
        "parallel_map(test_func,\n",
        "             args_container=[1, 2, 3],\n",
        "             n_jobs=5)   # Здесь используется 3 worker'a"
      ]
    },
    {
      "cell_type": "code",
      "execution_count": null,
      "id": "a0952cde-c347-438a-ad0b-15e1218e5b6f",
      "metadata": {
        "id": "a0952cde-c347-438a-ad0b-15e1218e5b6f",
        "outputId": "40247b40-be02-4aaa-921d-907299ada7a0"
      },
      "outputs": [
        {
          "name": "stdout",
          "output_type": "stream",
          "text": [
            "CPU times: user 1.26 ms, sys: 9.47 ms, total: 10.7 ms\n",
            "Wall time: 3.01 s\n"
          ]
        },
        {
          "data": {
            "text/plain": [
              "[3, 3, 3]"
            ]
          },
          "execution_count": 49,
          "metadata": {},
          "output_type": "execute_result"
        }
      ],
      "source": [
        "%%time\n",
        "\n",
        "# Пример 4.4\n",
        "# Аналогичный предыдущему случай, но с именованными аргументами\n",
        "parallel_map(test_func,\n",
        "             kwargs_container=[{\"s\": 3}, {\"s\": 3}, {\"s\": 3}],\n",
        "             n_jobs=5)   # Здесь используется 3 worker'a"
      ]
    },
    {
      "cell_type": "code",
      "execution_count": null,
      "id": "b2c7d286-6036-44b4-9686-d941297e9598",
      "metadata": {
        "id": "b2c7d286-6036-44b4-9686-d941297e9598",
        "outputId": "ac1c0272-39a0-425f-86f4-e1037d6038d3"
      },
      "outputs": [
        {
          "name": "stdout",
          "output_type": "stream",
          "text": [
            "CPU times: user 7.88 ms, sys: 0 ns, total: 7.88 ms\n",
            "Wall time: 3.01 s\n"
          ]
        },
        {
          "data": {
            "text/plain": [
              "[3, 7, 13]"
            ]
          },
          "execution_count": 50,
          "metadata": {},
          "output_type": "execute_result"
        }
      ],
      "source": [
        "%%time\n",
        "\n",
        "# Пример 4.5\n",
        "# Комбинация примеров 4.3 и 4.4 (переданы и позиционные и именованные аргументы)\n",
        "parallel_map(test_func,\n",
        "             args_container=[1, 2, 3],\n",
        "             kwargs_container=[{\"s\": 3}, {\"s\": 3}, {\"s\": 3}],\n",
        "             n_jobs=5)   # Здесь используется 3 worker'a"
      ]
    },
    {
      "cell_type": "code",
      "execution_count": null,
      "id": "8b4649e2-a75b-4ede-8a46-32a0139fe998",
      "metadata": {
        "id": "8b4649e2-a75b-4ede-8a46-32a0139fe998",
        "outputId": "4ce9020f-276e-4f6e-f671-c78053e51db5"
      },
      "outputs": [
        {
          "name": "stdout",
          "output_type": "stream",
          "text": [
            "CPU times: user 7.88 ms, sys: 0 ns, total: 7.88 ms\n",
            "Wall time: 3.01 s\n"
          ]
        },
        {
          "data": {
            "text/plain": [
              "[3, 7, 13]"
            ]
          },
          "execution_count": 50,
          "metadata": {},
          "output_type": "execute_result"
        }
      ],
      "source": [
        "%%time\n",
        "\n",
        "# Пример 4.6\n",
        "# Если аргументов для target_func указано БОЛЬШЕ, чем n_jobs, то используется n_jobs worker'ов\n",
        "parallel_map(test_func,\n",
        "             args_container=[1, 2, 3, 4],\n",
        "             kwargs_container=None,\n",
        "             n_jobs=2)   # Здесь используется 2 worker'a"
      ]
    },
    {
      "cell_type": "code",
      "execution_count": null,
      "id": "627aa784-15b5-41ca-b232-73c88c5ebed9",
      "metadata": {
        "id": "627aa784-15b5-41ca-b232-73c88c5ebed9",
        "outputId": "2f1aba1c-aa9b-468c-bf78-97fb41b95701"
      },
      "outputs": [
        {
          "name": "stdout",
          "output_type": "stream",
          "text": [
            "CPU times: user 3.03 ms, sys: 11 ms, total: 14 ms\n",
            "Wall time: 5.01 s\n"
          ]
        },
        {
          "data": {
            "text/plain": [
              "[3, 3, 3, 3]"
            ]
          },
          "execution_count": 51,
          "metadata": {},
          "output_type": "execute_result"
        }
      ],
      "source": [
        "%%time\n",
        "\n",
        "# Пример 4.7\n",
        "# Время выполнения оптимизируется, данный код должен отрабатывать за 5 секунд\n",
        "parallel_map(test_func,\n",
        "             kwargs_container=[{\"s\": 5}, {\"s\": 1}, {\"s\": 2}, {\"s\": 1}],\n",
        "             n_jobs=2)"
      ]
    },
    {
      "cell_type": "code",
      "execution_count": null,
      "id": "55bbfb49-4891-48c8-9cd7-782567b2a8fa",
      "metadata": {
        "id": "55bbfb49-4891-48c8-9cd7-782567b2a8fa",
        "outputId": "a8902b24-4e37-4919-e3cc-151402d4b2ee"
      },
      "outputs": [
        {
          "data": {
            "text/plain": [
              "['first', 'second', 'third', 'fourth', 'fifth']"
            ]
          },
          "execution_count": 57,
          "metadata": {},
          "output_type": "execute_result"
        }
      ],
      "source": [
        "def test_func2(string, sleep_time=1):\n",
        "    time.sleep(sleep_time)\n",
        "    return string\n",
        "\n",
        "# Пример 5\n",
        "# Результаты возвращаются в том же порядке, в котором были переданы соответствующие аргументы вне зависимости от того, когда завершился worker\n",
        "arguments = [\"first\", \"second\", \"third\", \"fourth\", \"fifth\"]\n",
        "parallel_map(test_func2,\n",
        "             args_container=arguments,\n",
        "             kwargs_container=[{\"sleep_time\": 5}, {\"sleep_time\": 4}, {\"sleep_time\": 3}, {\"sleep_time\": 2}, {\"sleep_time\": 1}])"
      ]
    },
    {
      "cell_type": "code",
      "execution_count": null,
      "id": "a5c2bcab-baa8-4f95-aceb-8cd6635844d6",
      "metadata": {
        "id": "a5c2bcab-baa8-4f95-aceb-8cd6635844d6",
        "outputId": "dcedfd18-9f13-4581-9a3a-aa6f67685737"
      },
      "outputs": [
        {
          "data": {
            "text/plain": [
              "[None, None, None]"
            ]
          },
          "execution_count": 58,
          "metadata": {},
          "output_type": "execute_result"
        }
      ],
      "source": [
        "%%time\n",
        "\n",
        "\n",
        "def test_func3():\n",
        "    def inner_test_func(sleep_time):\n",
        "        time.sleep(sleep_time)\n",
        "    return parallel_map(inner_test_func, args_container=[1, 2, 3])\n",
        "\n",
        "# Пример 6\n",
        "# Работает с функциями, созданными внутри других функций\n",
        "test_func3()"
      ]
    }
  ],
  "metadata": {
    "colab": {
      "provenance": []
    },
    "kernelspec": {
      "display_name": "Python 3 (ipykernel)",
      "language": "python",
      "name": "python3"
    },
    "language_info": {
      "codemirror_mode": {
        "name": "ipython",
        "version": 3
      },
      "file_extension": ".py",
      "mimetype": "text/x-python",
      "name": "python",
      "nbconvert_exporter": "python",
      "pygments_lexer": "ipython3",
      "version": "3.10.6"
    }
  },
  "nbformat": 4,
  "nbformat_minor": 5
}
