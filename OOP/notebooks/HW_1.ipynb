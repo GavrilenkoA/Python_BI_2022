{
 "cells": [
  {
   "cell_type": "markdown",
   "id": "7c5a538f-2dbe-445c-9f46-cf0dc18867e4",
   "metadata": {},
   "source": [
    "# Задание 1 (5 баллов)"
   ]
  },
  {
   "cell_type": "markdown",
   "id": "1e8cc3b0-6f60-40da-8058-30d9eb434daf",
   "metadata": {},
   "source": [
    "Напишите классы **Chat**, **Message** и **User**. Они должны соответствовать следующим требованиям:\n",
    "\n",
    "**Chat**:\n",
    "+ Должен иметь атрибут `chat_history`, где будут храниться все сообщения (`Message`) в обратном хронологическом порядке (сначала новые, затем старые)\n",
    "+ Должен иметь метод `show_last_message`, выводящий на экран информацию о последнем сообщении\n",
    "+ Должен иметь метод `get_history_from_time_period`, который принимает два опциональных аргумента (даты с которой и по какую мы ищем сообщения и выдаём их). Метод также должен возвращать объект типа `Chat`\n",
    "+ Должен иметь метод `show_chat`, выводящий на экран все сообщения (каждое сообщение в таком же виде как и `show_last_message`, но с разделителем между ними)\n",
    "+ Должен иметь метод `recieve`, который будет принимать сообщение и добавлять его в чат\n",
    "\n",
    "**Message**:\n",
    "+ Должен иметь три обязательных атрибута\n",
    "    + `text` - текст сообщения\n",
    "    + `datetime` - дата и время сообщения (встроенный модуль datetime вам в помощь). Важно! Это должна быть не дата создания сообщения, а дата его попадания в чат! \n",
    "    + `user` - информация о пользователе, который оставил сообщение (какой тип данных использовать здесь, разберётесь сами)\n",
    "+ Должен иметь метод `show`, который печатает или возвращает информацию о сообщении с необходимой информацией (дата, время, юзер, текст)\n",
    "+ Должен иметь метод `send`, который будет отправлять сообщение в чат\n",
    "\n",
    "**User**:\n",
    "+ Класс с информацией о юзере, наполнение для этого класса придумайте сами\n",
    "\n",
    "Напишите несколько примеров использования кода, которое показывает взаимодействие между объектами.\n",
    "\n",
    "В тексте задания намерено не указано, какие аргументы должны принимать методы, пускай вам в этом поможет здравый смысл)\n",
    "\n",
    "В этом задании не стоит флексить всякими продвинутыми штуками, для этого есть последующие\n",
    "\n",
    "В этом задании можно использовать только модуль `datetime`"
   ]
  },
  {
   "cell_type": "code",
   "execution_count": 379,
   "outputs": [],
   "source": [
    "import datetime"
   ],
   "metadata": {
    "collapsed": false
   }
  },
  {
   "cell_type": "code",
   "execution_count": 380,
   "outputs": [],
   "source": [
    "class Chat:\n",
    "    def __init__(self, chat_history = []):\n",
    "        self.chat_history = chat_history\n",
    "\n",
    "    def show_last_message(self):\n",
    "        if len(self.chat_history) >= 1:\n",
    "            last_message = self.chat_history[-1][0]\n",
    "            return last_message\n",
    "\n",
    "    def get_history_from_time_period(self, down = datetime.datetime(2000,10,17, 8,48,45),\n",
    "                                     up = datetime.datetime(2030,10,17, 8,48,45)):\n",
    "        # down и up - нижние и верхние границы по времени\n",
    "        cond_chat_history = list(filter(lambda x: down <= x[2] <= up, self.chat_history))\n",
    "\n",
    "        return cond_chat_history, self\n",
    "\n",
    "    def show_chat(self):\n",
    "        if len(self.chat_history) >= 1:\n",
    "            messages = \"\\t\".join([log[0] + f\" (User{log[1]})\" for log in self.chat_history])\n",
    "            return messages\n",
    "\n",
    "\n",
    "    def receive (self, log):\n",
    "        self.chat_history.append(log)\n",
    "\n",
    "\n",
    "\n",
    "\n"
   ],
   "metadata": {
    "collapsed": false
   }
  },
  {
   "cell_type": "code",
   "execution_count": 380,
   "outputs": [],
   "source": [],
   "metadata": {
    "collapsed": false
   }
  },
  {
   "cell_type": "code",
   "execution_count": 381,
   "outputs": [],
   "source": [
    "class User:\n",
    "    def __init__(self, id, age, sex):\n",
    "        self.id = id\n",
    "        self.age = age\n",
    "        self.sex = sex"
   ],
   "metadata": {
    "collapsed": false
   }
  },
  {
   "cell_type": "code",
   "execution_count": 382,
   "outputs": [],
   "source": [
    "class Message:\n",
    "    def __init__(self, text, date, user_obj):\n",
    "        self.text = text\n",
    "        self.user = user_obj.id\n",
    "        self.date = date\n",
    "\n",
    "    def show(self):\n",
    "        log =  [self.text, ' ID:' + str(self.user), self.date]\n",
    "        return log\n",
    "\n",
    "    def send(self, chat):\n",
    "        chat.recieve(self.show())\n",
    "\n",
    "\n",
    "\n",
    "\n"
   ],
   "metadata": {
    "collapsed": false
   }
  },
  {
   "cell_type": "code",
   "execution_count": 383,
   "outputs": [],
   "source": [
    "chat = Chat()"
   ],
   "metadata": {
    "collapsed": false
   }
  },
  {
   "cell_type": "code",
   "execution_count": 384,
   "outputs": [],
   "source": [
    "user = User(245, 21, 'Female')"
   ],
   "metadata": {
    "collapsed": false
   }
  },
  {
   "cell_type": "code",
   "execution_count": 385,
   "id": "d14ce6ca-7294-492c-8a01-3f7547680474",
   "metadata": {},
   "outputs": [],
   "source": [
    "time = datetime.datetime.now()\n",
    "message1 = Message('Hello', time, user)\n",
    "\n",
    "\n",
    "\n"
   ]
  },
  {
   "cell_type": "code",
   "execution_count": 386,
   "outputs": [],
   "source": [
    "chat.receive(message1.show())"
   ],
   "metadata": {
    "collapsed": false
   }
  },
  {
   "cell_type": "code",
   "execution_count": 387,
   "outputs": [
    {
     "data": {
      "text/plain": "'Hello (User ID:245)'"
     },
     "execution_count": 387,
     "metadata": {},
     "output_type": "execute_result"
    }
   ],
   "source": [
    "chat.show_chat()"
   ],
   "metadata": {
    "collapsed": false
   }
  },
  {
   "cell_type": "code",
   "execution_count": 388,
   "outputs": [],
   "source": [
    "time =  datetime.datetime.now()\n",
    "message2 = Message('How are you?', time, user)\n",
    "chat.receive(message2.show())"
   ],
   "metadata": {
    "collapsed": false
   }
  },
  {
   "cell_type": "code",
   "execution_count": 389,
   "outputs": [
    {
     "data": {
      "text/plain": "'Hello (User ID:245)\\tHow are you? (User ID:245)'"
     },
     "execution_count": 389,
     "metadata": {},
     "output_type": "execute_result"
    }
   ],
   "source": [
    "chat.show_chat()"
   ],
   "metadata": {
    "collapsed": false
   }
  },
  {
   "cell_type": "code",
   "execution_count": 390,
   "outputs": [
    {
     "data": {
      "text/plain": "([['Hello', ' ID:245', datetime.datetime(2023, 2, 24, 2, 29, 10, 10829)],\n  ['How are you?',\n   ' ID:245',\n   datetime.datetime(2023, 2, 24, 2, 29, 10, 638080)]],\n <__main__.Chat at 0x7ff46bac4040>)"
     },
     "execution_count": 390,
     "metadata": {},
     "output_type": "execute_result"
    }
   ],
   "source": [
    "chat.get_history_from_time_period()"
   ],
   "metadata": {
    "collapsed": false
   }
  },
  {
   "cell_type": "markdown",
   "id": "a59aa1b3-4c93-480e-a09f-e57df34eb60a",
   "metadata": {},
   "source": [
    "# Задание 2 (3 балла)"
   ]
  },
  {
   "cell_type": "markdown",
   "id": "ab07eb69-877f-4c38-8c7d-88beae20071b",
   "metadata": {},
   "source": [
    "В питоне как-то слишком типично и неинтересно происходят вызовы функций. Напишите класс `Args`, который будет хранить в себе аргументы, а функции можно будет вызывать при помощи следующего синтаксиса.\n",
    "\n",
    "Использовать любые модули **нельзя**, да и вряд-ли это как-то поможет)"
   ]
  },
  {
   "cell_type": "code",
   "execution_count": 193,
   "id": "d73d6b31-c15a-4ae6-ad9b-b3fdab88efed",
   "metadata": {},
   "outputs": [],
   "source": [
    "class Args:\n",
    "    def __init__(self, *args, **kwargs):\n",
    "        self.args = args\n",
    "        self.kwargs = kwargs\n",
    "\n",
    "    def __rlshift__(self, other):\n",
    "        if len(self.args) == 1:\n",
    "            arg = self.args[0]\n",
    "            return other(arg)\n",
    "        elif len(self.kwargs) > 0:\n",
    "            arg3 = list(self.kwargs.values())[0]\n",
    "            arg1 = self.args[0]\n",
    "            arg2 = self.args[1]\n",
    "            return other(arg1, arg2, arg3)\n",
    "\n",
    "\n",
    "\n"
   ]
  },
  {
   "cell_type": "code",
   "execution_count": 205,
   "id": "55afedbb-4725-4078-bd98-bf803be0bf93",
   "metadata": {},
   "outputs": [
    {
     "data": {
      "text/plain": "3"
     },
     "execution_count": 205,
     "metadata": {},
     "output_type": "execute_result"
    }
   ],
   "source": [
    "sum << Args([1, 2])"
   ]
  },
  {
   "cell_type": "code",
   "execution_count": 206,
   "id": "c37f0728-9bdc-469e-a5b8-3ab5aa43a731",
   "metadata": {},
   "outputs": [
    {
     "data": {
      "text/plain": "53"
     },
     "execution_count": 206,
     "metadata": {},
     "output_type": "execute_result"
    }
   ],
   "source": [
    "(lambda a, b, c: a**2 + b + c) << Args(1, 2, c=50)"
   ]
  },
  {
   "cell_type": "markdown",
   "id": "d6915eaf-92fe-460b-bf9b-06ccf55b093f",
   "metadata": {},
   "source": [
    "# Задание 3 (5 баллов)"
   ]
  },
  {
   "cell_type": "markdown",
   "id": "5a588ef8-8af6-42b6-972b-3c716a604c34",
   "metadata": {},
   "source": [
    "Сделайте класс наследник `float`. Он должен вести себя как `float`, но также должен обладать некоторыми особенностями:\n",
    "+ При получении атрибутов формата `<действие>_<число>` мы получаем результат такого действия над нашим числом\n",
    "+ Создавать данные атрибуты в явном виде, очевидно, не стоит\n",
    "\n",
    "Подсказка: если в процессе гуглёжки, вы выйдете на такую тему как **\"Дескрипторы\", то это НЕ то, что вам сейчас нужно**\n",
    "\n",
    "Примеры использования ниже"
   ]
  },
  {
   "cell_type": "code",
   "execution_count": 105,
   "id": "61cb63a2-90ac-4b79-97a5-bb0496262e32",
   "metadata": {},
   "outputs": [],
   "source": [
    "class StrangeFloat(float):\n",
    "    def __add__(self, other):\n",
    "        if isinstance(other, StrangeFloat)"
   ]
  },
  {
   "cell_type": "code",
   "execution_count": 322,
   "outputs": [],
   "source": [
    "class StrangeFloat(float):\n",
    "    def __init__(self, value):\n",
    "        self.value = value\n",
    "    def __getattribute__(self, command):\n",
    "        operator, operand = command.split('_')[0],  command.split('_')[1]\n",
    "        if operator == 'add':\n",
    "            return StrangeFloat(self + float(operand))\n",
    "        if operator == 'subtract':\n",
    "            return StrangeFloat(self - float(operand))\n",
    "        if operator == 'multiply':\n",
    "            return StrangeFloat(self * float(operand))\n",
    "        if operator == 'divide':\n",
    "            return StrangeFloat(self / float(operand))\n",
    "        else:\n",
    "            return super().__getattribute__(command)\n",
    "\n",
    "\n",
    "\n"
   ],
   "metadata": {
    "collapsed": false
   }
  },
  {
   "cell_type": "code",
   "execution_count": 323,
   "id": "f730c9c0-7d90-4037-97c6-e926dcbc1ea3",
   "metadata": {},
   "outputs": [],
   "source": [
    "number = StrangeFloat(3.5)"
   ]
  },
  {
   "cell_type": "code",
   "execution_count": 324,
   "outputs": [
    {
     "data": {
      "text/plain": "4.5"
     },
     "execution_count": 324,
     "metadata": {},
     "output_type": "execute_result"
    }
   ],
   "source": [
    "number.add_1"
   ],
   "metadata": {
    "collapsed": false
   }
  },
  {
   "cell_type": "code",
   "execution_count": 325,
   "outputs": [
    {
     "data": {
      "text/plain": "-16.5"
     },
     "execution_count": 325,
     "metadata": {},
     "output_type": "execute_result"
    }
   ],
   "source": [
    "number.subtract_20"
   ],
   "metadata": {
    "collapsed": false
   }
  },
  {
   "cell_type": "code",
   "execution_count": 326,
   "id": "b2756368-a489-486d-a0f1-244697f8503c",
   "metadata": {},
   "outputs": [
    {
     "data": {
      "text/plain": "4.5"
     },
     "execution_count": 326,
     "metadata": {},
     "output_type": "execute_result"
    }
   ],
   "source": [
    "number.add_1"
   ]
  },
  {
   "cell_type": "code",
   "execution_count": 327,
   "id": "c6799592-3cb6-4c7d-af62-9c0a48a76c1d",
   "metadata": {},
   "outputs": [
    {
     "data": {
      "text/plain": "-16.5"
     },
     "execution_count": 327,
     "metadata": {},
     "output_type": "execute_result"
    }
   ],
   "source": [
    "number.subtract_20"
   ]
  },
  {
   "cell_type": "code",
   "execution_count": 328,
   "id": "130027b5-017a-4c70-b072-1fdc6acf670f",
   "metadata": {},
   "outputs": [
    {
     "data": {
      "text/plain": "17.5"
     },
     "execution_count": 328,
     "metadata": {},
     "output_type": "execute_result"
    }
   ],
   "source": [
    "number.multiply_5"
   ]
  },
  {
   "cell_type": "code",
   "execution_count": 329,
   "id": "2b901e5c-5a51-4788-b15b-9b20a074e1a4",
   "metadata": {},
   "outputs": [
    {
     "data": {
      "text/plain": "0.14"
     },
     "execution_count": 329,
     "metadata": {},
     "output_type": "execute_result"
    }
   ],
   "source": [
    "number.divide_25"
   ]
  },
  {
   "cell_type": "code",
   "execution_count": 330,
   "id": "ea52c492-b0ce-4d73-8aba-a0ea51ed0b60",
   "metadata": {},
   "outputs": [
    {
     "data": {
      "text/plain": "-4.125"
     },
     "execution_count": 330,
     "metadata": {},
     "output_type": "execute_result"
    }
   ],
   "source": [
    "number.add_1.add_2.multiply_6.divide_8.subtract_9"
   ]
  },
  {
   "cell_type": "code",
   "execution_count": 331,
   "id": "e26ef411-a5df-46c7-bb9d-e77a1fad3cec",
   "metadata": {},
   "outputs": [
    {
     "data": {
      "text/plain": "1.0"
     },
     "execution_count": 331,
     "metadata": {},
     "output_type": "execute_result"
    }
   ],
   "source": [
    "getattr(number, \"add_-2.5\")   # Используем getattr, так как не можем написать number.add_-2.5 - это SyntaxError"
   ]
  },
  {
   "cell_type": "code",
   "execution_count": 332,
   "id": "7a57bb29-1105-4df1-a4c4-5fbf62eef11d",
   "metadata": {},
   "outputs": [
    {
     "data": {
      "text/plain": "11.5"
     },
     "execution_count": 332,
     "metadata": {},
     "output_type": "execute_result"
    }
   ],
   "source": [
    "number + 8   # Стандартные для float операции работают также"
   ]
  },
  {
   "cell_type": "code",
   "execution_count": 334,
   "id": "f0246b31-c55a-4bb8-ac15-46509bd8b340",
   "metadata": {},
   "outputs": [
    {
     "data": {
      "text/plain": "(7, 2)"
     },
     "execution_count": 334,
     "metadata": {},
     "output_type": "execute_result"
    }
   ],
   "source": [
    "number.as_integer_ratio()  # Стандартные для float операции работают также (это встроенный метод float, писать его НЕ НАДО)"
   ]
  },
  {
   "cell_type": "markdown",
   "id": "3635bceb-723c-4b2f-82e3-269bd914c46c",
   "metadata": {},
   "source": [
    "# Задание 4 (3 балла)"
   ]
  },
  {
   "cell_type": "markdown",
   "id": "31d35f82-1e20-4bf5-b896-7b8163f8386f",
   "metadata": {},
   "source": [
    "В данном задании мы немного отдохнём и повеселимся. От вас требуется заменить в данном коде максимально возможное количество синтаксических конструкций на вызовы dunder методов, dunder атрибутов и dunder переменных.\n",
    "\n",
    "Маленькая заметка: полностью всё заменить невозможно. Например, `function()` можно записать как `function.__call__()`, но при этом мы всё ещё не избавляемся от скобочек, так что можно делать так до бесконечности `function.__call__.__call__.__call__.__call__.....__call__()` и при всём при этом мы ещё не избавляемся от `.` для доступа к атрибутам. В общем, замените всё, что получится, не закапываясь в повторы, как в приведённом примере. Чем больше разных методов вы найдёте и используете, тем лучше и тем выше будет балл\n",
    "\n",
    "Код по итогу дожен работать и печатать число **4420.0**, как в примере. Структуру кода менять нельзя, просто изменяем конструкции на синонимичные\n",
    "\n",
    "И ещё маленькая подсказка. Заменить здесь можно всё кроме:\n",
    "+ Конструкции `for ... in ...`:\n",
    "+ Синтаксиса создания лямбда функции\n",
    "+ Оператора присваивания `=`\n",
    "+ Конструкции `if-else`"
   ]
  },
  {
   "cell_type": "code",
   "execution_count": 77,
   "id": "a87cff2a-7168-470d-b38f-1cb5a60ac0c4",
   "metadata": {},
   "outputs": [
    {
     "name": "stdout",
     "output_type": "stream",
     "text": [
      "4420.0\n"
     ]
    }
   ],
   "source": [
    "import numpy as np\n",
    "\n",
    "\n",
    "matrix = []\n",
    "for idx in range(0, 100, 10):\n",
    "    matrix += [list(range(idx, idx + 10))]\n",
    "    \n",
    "selected_columns_indices = list(filter(lambda x: x in range(1, 5, 2), range(len(matrix))))\n",
    "selected_columns = map(lambda x: [x[col] for col in selected_columns_indices], matrix)\n",
    "\n",
    "arr = np.array(list(selected_columns))\n",
    "\n",
    "mask = arr[:, 1] % 3 == 0\n",
    "new_arr = arr[mask]\n",
    "\n",
    "product = new_arr @ new_arr.T\n",
    "\n",
    "if (product[0] < 1000).all() and (product[2] > 1000).any():\n",
    "    print(product.mean())"
   ]
  },
  {
   "cell_type": "code",
   "execution_count": null,
   "outputs": [],
   "source": [],
   "metadata": {
    "collapsed": false
   }
  },
  {
   "cell_type": "code",
   "execution_count": 95,
   "outputs": [
    {
     "name": "stdout",
     "output_type": "stream",
     "text": [
      "4420.0\n"
     ]
    }
   ],
   "source": [
    "matrix = []\n",
    "for idx in range(0, 100, 10):\n",
    "    matrix = matrix.__add__([list(range(idx, idx + 10))])\n",
    "\n",
    "selected_columns_indices = list(filter(lambda x: x in range(1, 5, 2), range(matrix.__len__())))\n",
    "selected_columns = map(lambda x: [x.__getitem__(col) for col in selected_columns_indices], matrix)\n",
    "\n",
    "arr = np.array(list(selected_columns))\n",
    "mask = arr[:, 1].__divmod__(3)[1].__eq__(0)\n",
    "new_arr = arr[mask]\n",
    "product = new_arr.__matmul__(new_arr.T)\n",
    "if (product[0].__le__(1000)).all() and (product[2].__ge__(1000)).any():\n",
    "    print(product.mean())\n",
    "\n"
   ],
   "metadata": {
    "collapsed": false
   }
  },
  {
   "cell_type": "markdown",
   "id": "e90e5938-cabe-4ee1-9a88-73f25b3b67c3",
   "metadata": {},
   "source": [
    "# Задание 5 (10 баллов)"
   ]
  },
  {
   "cell_type": "markdown",
   "id": "0e58f6a8-7bb8-45f0-b14d-3bcd1f1ba5a9",
   "metadata": {},
   "source": [
    "Напишите абстрактный класс `BiologicalSequence`, который задаёт следующий интерфейс:\n",
    "+ Работа с функцией `len`\n",
    "+ Возможность получать элементы по индексу и делать срезы последовательности (аналогично строкам)\n",
    "+ Вывод на печать в удобном виде и возможность конвертации в строку\n",
    "+ Возможность проверить алфавит последовательности на корректность\n",
    "\n",
    "Напишите класс `NucleicAcidSequence`:\n",
    "+ Данный класс реализует интерфейс `BiologicalSequence`\n",
    "+ Данный класс имеет новый метод `complement`, возвращающий комплементарную последовательность\n",
    "+ Данный класс имеет новый метод `gc_content`, возвращающий GC-состав (без разницы, в процентах или в долях)\n",
    "\n",
    "Напишите классы наследники `NucleicAcidSequence`: `DNASequence` и `RNASequence`\n",
    "+ `RNASequence` должен иметь метод `transcribe`, возвращающий транскрибированную последовательность\n",
    "+ Данные классы не должны иметь <ins>публичных методов</ins> `complement` и метода для проверки алфавита, так как они уже должны быть реализованы в `NucleicAcidSequence`.\n",
    "\n",
    "Напишите класс `AminoAcidSequence`:\n",
    "+ Данный класс реализует интерфейс `BiologicalSequence`\n",
    "+ Данный класс имеет новый метод `translate`, писать логику не обязательно, можно вставить какой-нибудь placeholder\n",
    "\n",
    "\n",
    "Комментарий по поводу метода `NucleicAcidSequence.complement`, так как я хочу, чтобы вы сделали его опредедённым образом:\n",
    "\n",
    "При вызове `dna.complement()` или условного `dna.check_alphabet()` должны будут вызываться соответствующие методы из `NucleicAcidSequence`. При этом, данный метод должен обладать свойством полиморфизма, иначе говоря, внутри `complement` не надо делать условия а-ля `if seuqence_type == \"DNA\": return self.complement_dna()`, это крайне не гибко. Данный метод должен опираться на какой-то общий интерфейс между ДНК и РНК. Создание экземпляров `NucleicAcidSequence` не подразумевается, поэтому код `NucleicAcidSequence(\"ATGC\").complement()` не обязан работать, а в идеале должен кидать исключение `NotImplementedError` при вызове от экземпляра `NucleicAcidSequence`\n",
    "\n",
    "Вся сложность задания в том, чтобы правильно организовать код. Если у вас есть повторяющийся код в сестринских классах или родительском и дочернем, значит вы что-то делаете не так.\n",
    "\n",
    "\n",
    "Маленькое замечание: По-хорошему, между классом `BiologicalSequence` и классами `NucleicAcidSequence` и `AminoAcidSequence`, ещё должен быть класс-прослойка, частично реализующий интерфейс `BiologicalSequence`, но его писать не обязательно, так как задание и так довольно большое (правда из-за этого у вас неминуемо возникнет повторяющийся код в классах `NucleicAcidSequence` и `AminoAcidSequence`)"
   ]
  },
  {
   "cell_type": "code",
   "execution_count": 4,
   "id": "f17d5d3f-9982-4271-a987-3af7bc071c42",
   "metadata": {},
   "outputs": [],
   "source": [
    "from abc import ABC, abstractmethod\n",
    "\n",
    "\n"
   ]
  },
  {
   "cell_type": "code",
   "execution_count": 180,
   "outputs": [],
   "source": [
    "class BiologicalSequence(ABC):\n",
    "    @abstractmethod\n",
    "    def __len__(self):\n",
    "        pass\n",
    "\n",
    "    @abstractmethod\n",
    "    def __getitem__(self, item):\n",
    "        pass\n",
    "\n",
    "    @abstractmethod\n",
    "    def __str__(self):\n",
    "        pass\n",
    "\n",
    "    @abstractmethod\n",
    "    def check_alphabet(self, ref:str):\n",
    "        pass\n",
    "\n",
    "\n"
   ],
   "metadata": {
    "collapsed": false
   }
  },
  {
   "cell_type": "code",
   "execution_count": 181,
   "outputs": [],
   "source": [
    "class NucleicAcidSequence(BiologicalSequence):\n",
    "    def __init__(self, seq):\n",
    "        self.seq = seq\n",
    "\n",
    "    def __len__(self):\n",
    "        return len(self.seq)\n",
    "\n",
    "    def __getitem__(self, item):\n",
    "        return self.seq[item]\n",
    "\n",
    "    def __str__(self):\n",
    "        return str(self.seq)\n",
    "\n",
    "    def check_alphabet(self, ref: str):     # ref - строка с правильными символами для последовательности\n",
    "        if len(self.seq) > 0:\n",
    "            ref = set(ref)\n",
    "            rest = set(self.seq.upper()) - ref  # получаем, то что не входит из искомой строки в правильную ref\n",
    "            if len(rest) == 0:\n",
    "                return \"good sequence\"\n",
    "            else:\n",
    "                return \"bad sequence\"\n",
    "        else:\n",
    "            return \"empty sequence\"\n",
    "\n",
    "    def complement(self, table):\n",
    "        return self.seq.translate(table)\n",
    "\n",
    "    def gc_content(self):\n",
    "        return sum(map(lambda x: x == 'G' or x == \"C\", self.seq))/len(self.seq)\n",
    "\n",
    "\n"
   ],
   "metadata": {
    "collapsed": false
   }
  },
  {
   "cell_type": "code",
   "execution_count": 182,
   "outputs": [],
   "source": [
    "class DNASequence(NucleicAcidSequence):\n",
    "        pass\n",
    "\n",
    "\n",
    "\n",
    "\n"
   ],
   "metadata": {
    "collapsed": false
   }
  },
  {
   "cell_type": "code",
   "execution_count": 183,
   "outputs": [],
   "source": [
    "dna = DNASequence(\"ATTTTTCGC\")"
   ],
   "metadata": {
    "collapsed": false
   }
  },
  {
   "cell_type": "code",
   "execution_count": 189,
   "outputs": [
    {
     "name": "stdout",
     "output_type": "stream",
     "text": [
      "good sequence\n",
      "TAAAAAGCG\n"
     ]
    }
   ],
   "source": [
    "if isinstance(dna, DNASequence):\n",
    "    print(dna.check_alphabet(ref = 'ATGC'))\n",
    "    print(dna.complement(table=str.maketrans('ATGC', 'TACG')))"
   ],
   "metadata": {
    "collapsed": false
   }
  },
  {
   "cell_type": "code",
   "execution_count": 190,
   "outputs": [
    {
     "data": {
      "text/plain": "'ATTTTTCGC'"
     },
     "execution_count": 190,
     "metadata": {},
     "output_type": "execute_result"
    }
   ],
   "source": [
    "dna[0:10]"
   ],
   "metadata": {
    "collapsed": false
   }
  },
  {
   "cell_type": "code",
   "execution_count": 191,
   "outputs": [
    {
     "data": {
      "text/plain": "9"
     },
     "execution_count": 191,
     "metadata": {},
     "output_type": "execute_result"
    }
   ],
   "source": [
    "len(dna)"
   ],
   "metadata": {
    "collapsed": false
   }
  },
  {
   "cell_type": "code",
   "execution_count": 192,
   "outputs": [
    {
     "data": {
      "text/plain": "0.3333333333333333"
     },
     "execution_count": 192,
     "metadata": {},
     "output_type": "execute_result"
    }
   ],
   "source": [
    "dna.gc_content()"
   ],
   "metadata": {
    "collapsed": false
   }
  },
  {
   "cell_type": "markdown",
   "source": [
    "__Было не оч понятно, если rna последовательность создается уже экземляре класса, зачем ее транскрбировать, в обратном случае complement и проверка на правильность ввода была бы такая же как у днк. Поэтому определил метод reverse_transcribe__"
   ],
   "metadata": {
    "collapsed": false
   }
  },
  {
   "cell_type": "code",
   "execution_count": 205,
   "outputs": [],
   "source": [
    "class RNASequence(NucleicAcidSequence):\n",
    "\n",
    "    def reverse_transcribe(self):\n",
    "        mapping = str.maketrans(\"UACG\", \"ATGC\")\n",
    "        return self.seq.translate(mapping)\n"
   ],
   "metadata": {
    "collapsed": false
   }
  },
  {
   "cell_type": "code",
   "execution_count": 206,
   "outputs": [],
   "source": [
    "rna = RNASequence('AUUGGGCCGU')"
   ],
   "metadata": {
    "collapsed": false
   }
  },
  {
   "cell_type": "code",
   "execution_count": 207,
   "outputs": [
    {
     "name": "stdout",
     "output_type": "stream",
     "text": [
      "good sequence\n",
      "UAACCCGGCA\n",
      "TAACCCGGCA\n"
     ]
    }
   ],
   "source": [
    "if isinstance(rna, RNASequence):\n",
    "    print(rna.check_alphabet(ref = 'AUGC'))\n",
    "    print(rna.complement(table=str.maketrans('AUGC', 'UACG')))\n",
    "    print(rna.reverse_transcribe())"
   ],
   "metadata": {
    "collapsed": false
   }
  },
  {
   "cell_type": "code",
   "execution_count": 208,
   "outputs": [
    {
     "data": {
      "text/plain": "0.6"
     },
     "execution_count": 208,
     "metadata": {},
     "output_type": "execute_result"
    }
   ],
   "source": [
    "rna.gc_content()"
   ],
   "metadata": {
    "collapsed": false
   }
  },
  {
   "cell_type": "code",
   "execution_count": 209,
   "outputs": [],
   "source": [
    "table = {\n",
    "    'ATA':'I', 'ATC':'I', 'ATT':'I', 'ATG':'M',\n",
    "    'ACA':'T', 'ACC':'T', 'ACG':'T', 'ACT':'T',\n",
    "    'AAC':'N', 'AAT':'N', 'AAA':'K', 'AAG':'K',\n",
    "    'AGC':'S', 'AGT':'S', 'AGA':'R', 'AGG':'R',\n",
    "    'CTA':'L', 'CTC':'L', 'CTG':'L', 'CTT':'L',\n",
    "    'CCA':'P', 'CCC':'P', 'CCG':'P', 'CCT':'P',\n",
    "    'CAC':'H', 'CAT':'H', 'CAA':'Q', 'CAG':'Q',\n",
    "    'CGA':'R', 'CGC':'R', 'CGG':'R', 'CGT':'R',\n",
    "    'GTA':'V', 'GTC':'V', 'GTG':'V', 'GTT':'V',\n",
    "    'GCA':'A', 'GCC':'A', 'GCG':'A', 'GCT':'A',\n",
    "    'GAC':'D', 'GAT':'D', 'GAA':'E', 'GAG':'E',\n",
    "    'GGA':'G', 'GGC':'G', 'GGG':'G', 'GGT':'G',\n",
    "    'TCA':'S', 'TCC':'S', 'TCG':'S', 'TCT':'S',\n",
    "    'TTC':'F', 'TTT':'F', 'TTA':'L', 'TTG':'L',\n",
    "    'TAC':'Y', 'TAT':'Y', 'TAA':'_', 'TAG':'_',\n",
    "    'TGC':'C', 'TGT':'C', 'TGA':'_', 'TGG':'W',\n",
    "}"
   ],
   "metadata": {
    "collapsed": false
   }
  },
  {
   "cell_type": "code",
   "execution_count": 335,
   "outputs": [],
   "source": [
    "class AminoAcidSequence(BiologicalSequence):\n",
    "    def __init__(self, seq):\n",
    "        self.seq = seq\n",
    "\n",
    "    def __len__(self):\n",
    "        return len(self.seq)\n",
    "\n",
    "    def __getitem__(self, item):\n",
    "        return self.seq[item]\n",
    "\n",
    "    def __str__(self):\n",
    "        return str(self.seq)\n",
    "\n",
    "\n",
    "    def check_alphabet(self, ref: str):     # ref - строка с правильными символами для последовательности\n",
    "        if len(self.seq) > 0:\n",
    "            ref = set(ref)\n",
    "            rest = set(self.seq.upper()) - ref  # получаем, то что не входит из искомой строки в правильную ref\n",
    "            if len(rest) == 0:\n",
    "                return \"good sequence\"\n",
    "            else:\n",
    "                return \"bad sequence\"\n",
    "        else:\n",
    "            return \"empty sequence\"\n",
    "\n",
    "    def translate(self):\n",
    "        if len(self.seq) % 3 == 0:\n",
    "            protein = ''\n",
    "            for i in range(0, len(self.seq), 3):\n",
    "                codon = self.seq[i:i+3]\n",
    "                protein += table[codon]\n",
    "            return protein"
   ],
   "metadata": {
    "collapsed": false
   }
  },
  {
   "cell_type": "code",
   "execution_count": 335,
   "outputs": [],
   "source": [],
   "metadata": {
    "collapsed": false
   }
  },
  {
   "cell_type": "code",
   "execution_count": 336,
   "outputs": [
    {
     "name": "stdout",
     "output_type": "stream",
     "text": [
      "good sequence\n",
      "IWL\n"
     ]
    }
   ],
   "source": [
    "aminoacidseq = AminoAcidSequence('ATTTGGCTG')\n",
    "if isinstance(aminoacidseq, AminoAcidSequence):\n",
    "    print(aminoacidseq.check_alphabet('ATGC'))\n",
    "    print(aminoacidseq.translate())"
   ],
   "metadata": {
    "collapsed": false
   }
  },
  {
   "cell_type": "code",
   "execution_count": null,
   "outputs": [],
   "source": [],
   "metadata": {
    "collapsed": false
   }
  }
 ],
 "metadata": {
  "kernelspec": {
   "display_name": "Python 3 (ipykernel)",
   "language": "python",
   "name": "python3"
  },
  "language_info": {
   "codemirror_mode": {
    "name": "ipython",
    "version": 3
   },
   "file_extension": ".py",
   "mimetype": "text/x-python",
   "name": "python",
   "nbconvert_exporter": "python",
   "pygments_lexer": "ipython3",
   "version": "3.9.12"
  }
 },
 "nbformat": 4,
 "nbformat_minor": 5
}
