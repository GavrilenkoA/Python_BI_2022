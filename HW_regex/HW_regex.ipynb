{
 "cells": [
  {
   "cell_type": "code",
   "execution_count": 4,
   "metadata": {
    "collapsed": true
   },
   "outputs": [],
   "source": [
    "import re\n",
    "import seaborn as sns"
   ]
  },
  {
   "cell_type": "markdown",
   "source": [
    "### 1"
   ],
   "metadata": {
    "collapsed": false
   }
  },
  {
   "cell_type": "code",
   "execution_count": 6,
   "outputs": [],
   "source": [
    "pattern = re.compile(r'ftp.*?gz')\n",
    "input = open(\"./references.txt\", \"r\")\n",
    "output = open(\"./ftps\", \"w\")\n",
    "string  = input.readline()\n",
    "while string:\n",
    "    ftps = pattern.findall(string)\n",
    "    for ftp in ftps:\n",
    "        output.write(ftp)\n",
    "        output.write(\"\\n\")\n",
    "    string = input.readline()\n",
    "input.close()\n",
    "output.close()\n"
   ],
   "metadata": {
    "collapsed": false
   }
  },
  {
   "cell_type": "markdown",
   "source": [
    "### 2, 3, 4"
   ],
   "metadata": {
    "collapsed": false
   }
  },
  {
   "cell_type": "code",
   "execution_count": 120,
   "outputs": [],
   "source": [
    "input = open(\"./2430AD.txt\", \"r\")\n",
    "line = input.readline()\n",
    "digit_pattern = re.compile(r\"\\d\")   #все цифры\n",
    "a_pattern = re.compile(r\"[a-zA-Z]*[a|A][a-zA-Z]*\")  #все буквы а\n",
    "express_pattern = re.compile(r\"[\\'\\\"]?[A-Z][^\\.\\?\\;]*?[!][\\'\\\"]?\")  #все восклицательные предложения\n",
    "all_digits = []\n",
    "all_a = []\n",
    "express_sent = []\n",
    "while line:\n",
    "    cur_digits = digit_pattern.findall(line)\n",
    "    cur_a = a_pattern.findall(line)\n",
    "    cur_expr = express_pattern.findall(line)\n",
    "    all_digits.extend(cur_digits)\n",
    "    express_sent.extend(cur_expr)\n",
    "    all_a.extend(cur_a)\n",
    "    line = input.readline()\n",
    "input.close()"
   ],
   "metadata": {
    "collapsed": false
   }
  },
  {
   "cell_type": "code",
   "execution_count": 383,
   "outputs": [
    {
     "name": "stdout",
     "output_type": "stream",
     "text": [
      "all_digits - ['2', '4', '3', '0', '1', '9', '6', '9', '2', '4', '3', '0', '2', '4', '3', '0', '5', '7', '5', '7', '1', '9', '7', '0', '3', '6', '8', '3', '5', '4', '6', '0', '2', '4', '3', '0']\n",
      "all_a - ['A', 'and', 'dawn', 'and', 'all', 'ache', 'have', 'a', 'nightmare', 'a', 'are', 'all', 'and', 'a', 'gleam', 'anywhere', 'an', 'original', 'a', 'personality', 'packed', 'talk', 'said', 'Alvarez', 'said', 'Social', 'eventually', 'An', 'character', 'escaped', 'adjustment', 'talking', 'irritates', 'past', 'tact', 'along', 'Trail', 'was', 'as', 'always', 'sparsely', 'have', 'taken', 'and', 'Alvarez', 'walking', 'Alvarez', 'was', 'tall', 'and', 'rather', 'athletic', 'a', 'muscular', 'activities', 'stairs', 'and', 'rampways', 'instance', 'almost', 'an', 'character', 'and', 'avoided', 'sunlamps', 'and', 'was', 'pale', 'said', 'want', 'can', 'have', 'square', 'space', 'and', 'has', 'apartment', 'Rather', 'a', 'a', 'way', 'said', 'Alvarez', 'And', 'a', 'Alvarez', 'added', 'matter', 'reach', 'peak', 'reach', 'reach', 'goal', 'All', 'mankind', 'And', 'said', 'at', 'that', 'way', 'that', 'against', 'plastic', 'passed', 'and', 'saw', 'distance', 'was', 'a', 'plankton', 'varieties', 'almost', 'that', 'above', 'far', 'above', 'was', 'giant', 'leading', 'sea', 'And', 'another', 'as', 'large', 'far', 'leading', 'sea', 'destination', 'was', 'a', 'back', 'that', 'thousands', 'had', 'passed', 'was', 'about', 'an', 'intangible', 'and', 'space', 'wall', 'was', 'blank', 'And', 'was', 'air', 'said', 'Alvarez', 'Inhuman', 'Literally', 'said', 'at', 'easy', 'signaled', 'waited', 'all', 'around', 'disregarded', 'manner', 'was', 'always', 'Cranwitz', 'was', 'waiting', 'same', 'all', 'gray', 'hair', 'and', 'uneasily', 'May', 'asked', 'Alvarez', 'Cranwitz', 'was', 'Cranwitz', 'and', 'sat', 'Cranwitz', 'remained', 'standing', 'and', 'said', 'Alvarez', 'said', 'ask', 'capacity', 'as', 'Representative', 'as', 'Representative', 'are', 'ready', 'social', 'Cranwitz', 'finally', 'was', 'and', 'had', 'clear', 'throat', 'want', 'said', 'have', 'a', 'contract', 'standing', 'family', 'has', 'always', 'had', 'all', 'and', 'said', 'irritably', 'asking', 'accede', 'voluntarily', 'Alvarez', 'understand', 'situation', 'what', 'was', 'father', 'really', 'what', 'was', 'last', 'year', 'Cranwitz', 'jaw', 'that', 'rate', 'has', 'year', 'amount', 'and', 'has', 'changed', 'That', 'year', 'year', 'year', 'carry', 'Alvarez', 'was', 'year', 'was', 'and', 'said', 'year', 'reached', 'goal', 'rate', 'exactly', 'matches', 'death', 'rate', 'population', 'exactly', 'steady', 'replacement', 'and', 'sea', 'farms', 'are', 'a', 'steady', 'state', 'stand', 'all', 'mankind', 'and', 'Because', 'a', 'Because', 'a', 'And', 'creatures', 'Guinea', 'Rabbits', 'and', 'lizards', 'haven', 'taken', 'a', 'all', 'What', 'harm', 'What', 'demanded', 'Cranwitz', 'said', 'at', 'was', 'a', 'Alvarez', 'had', 'heard', 'that', 'said', 'as', 'sympathy', 'as', 'and', 'a', 'certain', 'amount', 'real', 'sympathy', 'was', 'a', 'ago', 'vast', 'care', 'And', 'years', 'that', 'dinosaurs', 'have', 'man', 'ignorant', 'can', 'compare', 'real', 'asked', 'Cranwitz', 'was', 'larger', 'said', 'Cranwitz', 'Year', 'year', 'had', 'many', 'All', 'large', 'animals', 'All', 'carnivores', 'small', 'plants', 'creatures', 'Alvarez', 'said', 'What', 'wants', 'Mankind', 'against', 'Social', 'persuade', 'against', 'real', 'resistance', 'want', 'really', 'are', 'What', 'Alvarez', 'was', 'insinuating', 'Cranwitz', 'sat', 'A', 'certain', 'Someday', 'reach', 'Mankind', 'want', 'animals', 'want', 'start', 'a', 'variety', 'faded', 'stare', 'said', 'What', 'are', 'reached', 'said', 'Cranwitz', 'and', 'established', 'a', 'and', 'abandoned', 'all', 'solar', 'capable', 'human', 'Cranwitz', 'said', 'are', 'stars', 'Earthlike', 'Alvarez', 'head', 'reach', 'have', 'finally', 'Earth', 'and', 'human', 'have', 'made', 'and', 'Earth', 'margin', 'a', 'starship', 'capable', 'years', 'space', 'Have', 'wasn', 'last', 'said', 'Cranwitz', 'was', 'said', 'Alvarez', 'haven', 'romanticized', 'madness', 'was', 'a', 'and', 'was', 'and', 'reason', 'than', 'half', 'substance', 'war', 'and', 'preparations', 'war', 'ran', 'wasted', 'and', 'at', 'chance', 'and', 'tolerated', 'deviants', 'all', 'dreaded', 'what', 'called', 'population', 'and', 'dreamed', 'reaching', 'as', 'a', 'escape', 'combination', 'and', 'advances', 'that', 'changed', 'case', 'are', 'was', 'establishment', 'a', 'and', 'art', 'planetary', 'peace', 'and', 'a', 'placid', 'humanity', 'peacefully', 'and', 'multiplication', 'was', 'advance', 'exactly', 'many', 'Earth', 'many', 'calories', 'reached', 'Earth', 'and', 'that', 'many', 'carbon', 'plants', 'each', 'year', 'and', 'many', 'animal', 'plants', 'Earth', 'animal', 'Cranwitz', 'finally', 'And', 'all', 'human', 'Exactly', 'meant', 'all', 'animal', 'That', 'way', 'said', 'angrily', 'Alvarez', 'again', 'Cranwitz', 'said', 'replaced', 'placoderms', 'had', 'replaced', 'replaced', 'amphibians', 'and', 'replaced', 'mammals', 'at', 'last', 'has', 'reached', 'peak', 'Earth', 'bears', 'population', 'human', 'demanded', 'Cranwitz', 'vast', 'all', 'face', 'land', 'plants', 'and', 'animals', 'what', 'have', 'And', 'all', 'uninhabited', 'ocean', 'has', 'a', 'plankton', 'plankton', 'harvest', 'and', 'as', 'organic', 'matter', 'plankton', 'said', 'Alvarez', 'war', 'are', 'regulated', 'deaths', 'are', 'peaceful', 'infants', 'are', 'genetically', 'adjusted', 'and', 'Earth', 'are', 'normal', 'brain', 'largest', 'conceivable', 'quantity', 'conceivable', 'matter', 'And', 'all', 'that', 'brain', 'what', 'heaved', 'an', 'audible', 'exasperation', 'Alvarez', 'calm', 'said', 'destination', 'Perhaps', 'animals', 'Earth', 'was', 'was', 'necessary', 'and', 'take', 'chances', 'was', 'wasteful', 'Earth', 'was', 'had', 'and', 'had', 'after', 'mankind', 'came', 'had', 'learn', 'way', 'was', 'learning', 'had', 'take', 'chances', 'attempt', 'mad', 'mankind', 'has', 'have', 'planet', 'and', 'Alvarez', 'paused', 'that', 'said', 'want', 'Cranwitz', 'wants', 'generation', 'that', 'has', 'reached', 'and', 'want', 'having', 'reached', 'animals', 'are', 'way', 'Cranwitz', 'head', 'take', 'all', 'have', 'what', 'human', 'said', 'human', 'another', 'human', 'brain', 'what', 'measure', 'can', 'evaluate', 'human', 'brain', 'already', 'have', 'said', 'Alvarez', 'and', 'that', 'and', 'are', 'All', 'Earth', 'prepared', 'celebrate', 'year', 'AD', 'year', 'that', 'planet', 'at', 'last', 'goal', 'achieved', 'all', 'Shall', 'fan', 'a', 'flaw', 'a', 'flaw', 'Cranwitz', 'Earth', 'has', 'waiting', 'years', 'wait', 'cannot', 'and', 'voluntarily', 'a', 'said', 'all', 'say', 'that', 'Cranwitz', 'acted', 'and', 'that', 'act', 'was', 'reached', 'And', 'Cranwitz', 'said', 'imitating', 'And', 'say', 'that', 'Alvarez', 'and', 'persuaded', 'said', 'Alvarez', 'audible', 'annoyance', 'Cranwitz', 'can', 'against', 'Whatever', 'and', 'that', 'way', 'are', 'an', 'idealist', 'can', 'that', 'last', 'many', 'Cranwitz', 'and', 'Alvarez', 'hand', 'waved', 'and', 'said', 'a', 'remained', 'Cranwitz', 'Can', 'have', 'day', 'animals', 'And', 'And', 'stand', 'mankind', 'and', 'And', 'Alvarez', 'said', 'And', 'and', 'vast', 'continental', 'human', 'placidly', 'human', 'placidly', 'ate', 'half', 'a', 'carefully', 'made', 'talked', 'heat', 'ran', 'machinery', 'organized', 'libraries', 'amused', 'and', 'varied', 'machinery', 'repaired', 'plankton', 'planetary', 'ocean', 'basked', 'and', 'and', 'and', 'and', 'and', 'transferred', 'and', 'that', 'And', 'human', 'wastes', 'gathered', 'and', 'irradiated', 'and', 'and', 'human', 'and', 'treated', 'and', 'and', 'was', 'back', 'ocean', 'And', 'all', 'was', 'as', 'had', 'decades', 'and', 'millennia', 'Cranwitz', 'creatures', 'a', 'last', 'guinea', 'a', 'gaze', 'a', 'blade', 'grass', 'all', 'last', 'Earth', 'that', 'humans', 'humans', 'and', 'seared', 'plants', 'and', 'cages', 'and', 'animals', 'appropriate', 'vapors', 'and', 'and', 'last', 'was', 'and', 'mankind', 'and', 'was', 'Cranwitz', 'departed', 'Cranwitz', 'also', 'vapors', 'and', 'want', 'And', 'after', 'that', 'was', 'really', 'all', 'Earth', 'all', 'inhabitants', 'and', 'all', 'human', 'brain', 'was', 'Cranwitz', 'unusual', 'idea', 'universal', 'placidity', 'that', 'meant', 'that', 'had', 'at', 'last', 'achieved', 'A', 'was', 'and', 'had', 'paid', 'fears', 'unallayed', 'That', 'had', 'accepted', 'was', 'had', 'taken', 'was', 'GREATEST', 'ASSET', 'Campbell', 'same', 'again', 'years', 'and', 'Magazine', 'said', 'was', 'handing', 'that', 'had', 'at', 'a', 'and', 'said', 'necessarily', 'agree', 'another', 'read', 'and', 'hadn', 'about', 'crazy', 'about', 'unable', 'because', 'was', 'ashamed', 'and', 'was', 'great', 'man', 'feared', 'as', 'jackass', 'taking', 'that', 'had', 'added', 'favor', 'many', 'many', 'had', 'And', 'case', 'as', 'that', 'years', 'have', 'far', 'than', 'years', 'stayed', 'and', 'that', 'population', 'Earth', 'estimated', 'rate', 'increase', 'that', 'population', 'years', 'rate', 'Increase', 'can', 'maintained', 'years', 'year', 'A', 'human', 'and', 'equal', 'total', 'animal', 'Earth', 'that', 'above']\n",
      "express_sent - ['\"Yes!', '\"Literally!\"', 'There was once a time!', 'Centuries ago!', '\"Think, Cranwitz!', '\"If we succeed!\"']\n"
     ]
    }
   ],
   "source": [
    "print(f\"all_digits - {all_digits}\", f'all_a - {all_a}', f'express_sent - {express_sent}', sep = '\\n')"
   ],
   "metadata": {
    "collapsed": false
   }
  },
  {
   "cell_type": "markdown",
   "source": [
    "Имеет ли смысл вообще выгружать по одной строчке?"
   ],
   "metadata": {
    "collapsed": false
   }
  },
  {
   "cell_type": "markdown",
   "source": [
    "#### 5\n"
   ],
   "metadata": {
    "collapsed": false
   }
  },
  {
   "cell_type": "code",
   "execution_count": 8,
   "outputs": [],
   "source": [
    "input = open(\"./2430AD.txt\", \"r\")\n",
    "data = input.read()\n",
    "distrib_word = {}\n",
    "for i in range(1, 21):  # верхняя граница длины слова установим 20\n",
    "    pat = r'\\b[a-z]' + '{' + f'{i}' + '}' + r'[a-z]\\b'    # не понял как оптимально сконектить f и r строку, поэтому просто скантатил\n",
    "    match = re.findall(pat, data, flags=re.IGNORECASE)  #матчим все слова игнорируя регистр\n",
    "    unique_words = set([i.lower() for i in match]) #преобразуем все слова к нижнему регистру, и оставим уникальные c помощью set\n",
    "    if len(unique_words) == 0:  #когда достигнем нулевого кол-ва слов длины i, остановимся\n",
    "        break\n",
    "    else:\n",
    "        distrib_word[i] = len(unique_words)\n",
    "input.close()"
   ],
   "metadata": {
    "collapsed": false
   }
  },
  {
   "cell_type": "code",
   "execution_count": 9,
   "outputs": [],
   "source": [
    "for key in distrib_word:\n",
    "    distrib_word[key] = (distrib_word[key]/sum(distrib_word.values())) * 100\n"
   ],
   "metadata": {
    "collapsed": false
   }
  },
  {
   "cell_type": "code",
   "execution_count": 13,
   "outputs": [
    {
     "data": {
      "text/plain": "<Figure size 640x480 with 1 Axes>",
      "image/png": "[encoded data removed]"
     },
     "metadata": {},
     "output_type": "display_data"
    }
   ],
   "source": [
    "#penguins = sns.load_dataset(\"penguins\")\n",
    "ax = sns.barplot(x = list(distrib_word.keys()), y = list(distrib_word.values()));\n",
    "ax.set(xlabel='длина', ylabel='доля');"
   ],
   "metadata": {
    "collapsed": false
   }
  },
  {
   "cell_type": "markdown",
   "source": [
    "#### 6"
   ],
   "metadata": {
    "collapsed": false
   }
  },
  {
   "cell_type": "code",
   "execution_count": 499,
   "outputs": [],
   "source": [
    "def translate_to_kirpich(text):\n",
    "    all_words = re.findall(r'[\\w]+', text)  #извлечем все слова из текста\n",
    "    vowel_pattern = re.compile(r'[а|я|у|ю|о|е|ё|э|и|ы]', flags=re.IGNORECASE)   #патерн для поиска всех гласных в слове\n",
    "    output = []\n",
    "    for word in all_words:  #будем обрабатывать каждое слово\n",
    "        all_match = set(vowel_pattern.findall(word))    # нашли все гласные в слове, повторения гласных не интересуют, сделаем set\n",
    "        for i in all_match:\n",
    "            word = re.sub(i, i+'k'+i, word)     # последовательно делаем замену гласного i на iki в слове\n",
    "        output.append(word)\n",
    "    output = ' '.join(output)\n",
    "    return output\n",
    "\n"
   ],
   "metadata": {
    "collapsed": false
   }
  },
  {
   "cell_type": "markdown",
   "source": [
    "Проверка"
   ],
   "metadata": {
    "collapsed": false
   }
  },
  {
   "cell_type": "code",
   "execution_count": 502,
   "outputs": [
    {
     "data": {
      "text/plain": "'жЕkЕлЕkЕзОkО наkадоkо коkоваkать пряkямоkо сеkейчаkас'"
     },
     "execution_count": 502,
     "metadata": {},
     "output_type": "execute_result"
    }
   ],
   "source": [
    "translate_to_kirpich('жЕлЕзО надо ковать прямо сейчас')"
   ],
   "metadata": {
    "collapsed": false
   }
  },
  {
   "cell_type": "markdown",
   "source": [
    "#### 7"
   ],
   "metadata": {
    "collapsed": false
   }
  },
  {
   "cell_type": "code",
   "execution_count": 415,
   "outputs": [],
   "source": [
    "def find_n_words_sentences(text, n):\n",
    "    get_sent = r'[A-Z][^\\.!?]*?[\\.|!|?]'\n",
    "    all_sent = re.findall(get_sent, text)\n",
    "    extract_word = re.compile(r'[\\w]+')\n",
    "    ans = []\n",
    "    for sent in all_sent:\n",
    "        all_words = extract_word.findall(sent)\n",
    "        all_words = tuple(all_words)\n",
    "        if len(all_words) == n:\n",
    "            ans.append(all_words)\n",
    "    return ans\n",
    "\n"
   ],
   "metadata": {
    "collapsed": false
   }
  },
  {
   "cell_type": "markdown",
   "source": [
    "Проверка"
   ],
   "metadata": {
    "collapsed": false
   }
  },
  {
   "cell_type": "code",
   "execution_count": 416,
   "outputs": [],
   "source": [
    "input = open('./2430AD.txt')\n",
    "data = input.read()"
   ],
   "metadata": {
    "collapsed": false
   }
  },
  {
   "cell_type": "code",
   "execution_count": 417,
   "outputs": [
    {
     "data": {
      "text/plain": "[('There',\n  'was',\n  'a',\n  'fugitive',\n  'whiff',\n  'of',\n  'plankton',\n  'in',\n  'its',\n  'varieties'),\n ('Cranwitz',\n  'closed',\n  'the',\n  'door',\n  'behind',\n  'them',\n  'and',\n  'they',\n  'sat',\n  'down'),\n ('There',\n  'is',\n  'a',\n  'contract',\n  'with',\n  'the',\n  'government',\n  'of',\n  'long',\n  'standing'),\n ('Cranwitz',\n  'said',\n  'The',\n  'good',\n  'of',\n  'being',\n  'there',\n  'to',\n  'look',\n  'at'),\n ('Social',\n  'pressure',\n  'We',\n  'couldn',\n  't',\n  'persuade',\n  'people',\n  'against',\n  'real',\n  'resistance'),\n ('He',\n  'll',\n  'want',\n  'other',\n  'species',\n  'in',\n  'these',\n  'new',\n  'empty',\n  'worlds'),\n ('Bunting',\n  'said',\n  'What',\n  'other',\n  'worlds',\n  'are',\n  'we',\n  'going',\n  'to',\n  'colonize'),\n ('Sure',\n  'and',\n  'we',\n  'established',\n  'a',\n  'colony',\n  'and',\n  'we',\n  'abandoned',\n  'it'),\n ('Even',\n  'if',\n  'it',\n  'meant',\n  'killing',\n  'off',\n  'all',\n  'other',\n  'animal',\n  'life'),\n ('The',\n  'toleosts',\n  'replaced',\n  'the',\n  'placoderms',\n  'who',\n  'had',\n  'replaced',\n  'the',\n  'trilobites'),\n ('Even',\n  'after',\n  'mankind',\n  'came',\n  'it',\n  'had',\n  'to',\n  'learn',\n  'the',\n  'way'),\n ('They',\n  'take',\n  'up',\n  'so',\n  'little',\n  'room',\n  'consume',\n  'so',\n  'little',\n  'energy'),\n ('And',\n  'then',\n  'I',\n  'won',\n  't',\n  'stand',\n  'between',\n  'mankind',\n  'and',\n  'perfection')]"
     },
     "execution_count": 417,
     "metadata": {},
     "output_type": "execute_result"
    }
   ],
   "source": [
    "find_n_words_sentences(data, 10)"
   ],
   "metadata": {
    "collapsed": false
   }
  },
  {
   "cell_type": "code",
   "execution_count": null,
   "outputs": [],
   "source": [],
   "metadata": {
    "collapsed": false
   }
  }
 ],
 "metadata": {
  "kernelspec": {
   "display_name": "Python 3",
   "language": "python",
   "name": "python3"
  },
  "language_info": {
   "codemirror_mode": {
    "name": "ipython",
    "version": 2
   },
   "file_extension": ".py",
   "mimetype": "text/x-python",
   "name": "python",
   "nbconvert_exporter": "python",
   "pygments_lexer": "ipython2",
   "version": "2.7.6"
  }
 },
 "nbformat": 4,
 "nbformat_minor": 0
}
