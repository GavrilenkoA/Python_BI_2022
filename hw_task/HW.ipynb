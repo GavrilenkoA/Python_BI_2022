{
  "cells": [
    {
      "cell_type": "markdown",
      "metadata": {
        "id": "view-in-github",
        "colab_type": "text"
      },
      "source": [
        "<a href=\"https://colab.research.google.com/github/GavrilenkoA/Python_BI_2022/blob/iterators/%D0%9A%D0%BE%D0%BF%D0%B8%D1%8F_%D0%B1%D0%BB%D0%BE%D0%BA%D0%BD%D0%BE%D1%82%D0%B0_%22HW_2_ipynb%22.ipynb\" target=\"_parent\"><img src=\"https://colab.research.google.com/assets/colab-badge.svg\" alt=\"Open In Colab\"/></a>"
      ]
    },
    {
      "cell_type": "markdown",
      "id": "72f5013c-f4b9-4a1f-aed9-7e47623e7c8a",
      "metadata": {
        "id": "72f5013c-f4b9-4a1f-aed9-7e47623e7c8a"
      },
      "source": [
        "# Задание 1 (2 балла)"
      ]
    },
    {
      "cell_type": "markdown",
      "id": "0e818fc0-4716-45c6-8942-7b60da358200",
      "metadata": {
        "id": "0e818fc0-4716-45c6-8942-7b60da358200"
      },
      "source": [
        "Напишите класс `MyDict`, который будет полностью повторять поведение обычного словаря, за исключением того, что при итерации мы должны получать и ключи, и значения.\n",
        "\n",
        "**Модули использовать нельзя**"
      ]
    },
    {
      "cell_type": "code",
      "source": [],
      "metadata": {
        "id": "FJjeDB_60AVO"
      },
      "id": "FJjeDB_60AVO",
      "execution_count": null,
      "outputs": []
    },
    {
      "cell_type": "code",
      "source": [
        "class MyDict(dict):\n",
        "    def __iter__(self):\n",
        "        for key, value in self.items():\n",
        "            yield (key, value)"
      ],
      "metadata": {
        "id": "9hTa1ls7gobc"
      },
      "id": "9hTa1ls7gobc",
      "execution_count": 17,
      "outputs": []
    },
    {
      "cell_type": "code",
      "source": [
        "dct = MyDict({\"a\": 1, \"b\": 2, \"c\": 3, \"d\": 25})\n",
        "for key, value in dct:\n",
        "    print(key, value)  "
      ],
      "metadata": {
        "id": "Wm80y1MGyJF1",
        "colab": {
          "base_uri": "https://localhost:8080/"
        },
        "outputId": "fee6d4df-ec4c-46c2-b9b5-a7ad2801c275"
      },
      "id": "Wm80y1MGyJF1",
      "execution_count": 18,
      "outputs": [
        {
          "output_type": "stream",
          "name": "stdout",
          "text": [
            "a 1\n",
            "b 2\n",
            "c 3\n",
            "d 25\n"
          ]
        }
      ]
    },
    {
      "cell_type": "code",
      "source": [
        "for key, value in dct.items():\n",
        "    print(key, value)"
      ],
      "metadata": {
        "id": "ds5ty1VIGq3Q",
        "colab": {
          "base_uri": "https://localhost:8080/"
        },
        "outputId": "129fde9b-97f7-4d22-f188-acb01042ba15"
      },
      "id": "ds5ty1VIGq3Q",
      "execution_count": 19,
      "outputs": [
        {
          "output_type": "stream",
          "name": "stdout",
          "text": [
            "a 1\n",
            "b 2\n",
            "c 3\n",
            "d 25\n"
          ]
        }
      ]
    },
    {
      "cell_type": "code",
      "source": [
        "for key in dct.keys():\n",
        "    print(key)"
      ],
      "metadata": {
        "id": "A2065qd_GyOI",
        "colab": {
          "base_uri": "https://localhost:8080/"
        },
        "outputId": "ad30ead5-4fb7-4bf8-d159-8e8edb29013c"
      },
      "id": "A2065qd_GyOI",
      "execution_count": 20,
      "outputs": [
        {
          "output_type": "stream",
          "name": "stdout",
          "text": [
            "a\n",
            "b\n",
            "c\n",
            "d\n"
          ]
        }
      ]
    },
    {
      "cell_type": "code",
      "execution_count": 21,
      "id": "b7bfbf08-7253-4aab-a9a0-a8e8500c5a29",
      "metadata": {
        "id": "b7bfbf08-7253-4aab-a9a0-a8e8500c5a29",
        "outputId": "2c584e95-6b7b-4b0a-d474-22a0c5817a17",
        "colab": {
          "base_uri": "https://localhost:8080/"
        }
      },
      "outputs": [
        {
          "output_type": "execute_result",
          "data": {
            "text/plain": [
              "28"
            ]
          },
          "metadata": {},
          "execution_count": 21
        }
      ],
      "source": [
        "dct[\"c\"] + dct[\"d\"]"
      ]
    },
    {
      "cell_type": "markdown",
      "id": "4bde5544-afd0-408e-a03b-dad5096ee685",
      "metadata": {
        "id": "4bde5544-afd0-408e-a03b-dad5096ee685"
      },
      "source": [
        "# Задание 2 (2 балла)"
      ]
    },
    {
      "cell_type": "markdown",
      "id": "36e85085-9990-4a2a-a005-f5ef3afd438d",
      "metadata": {
        "id": "36e85085-9990-4a2a-a005-f5ef3afd438d"
      },
      "source": [
        "Напишите функцию `iter_append`, которая \"добавляет\" новый элемент в конец итератора, возвращая итератор, который включает изначальные элементы и новый элемент. Итерироваться по итератору внутри функции нельзя, то есть вот такая штука не принимается\n",
        "```python\n",
        "def iter_append(iterator, item):\n",
        "    lst = list(iterator) + [item]\n",
        "    return iter(lst)\n",
        "```\n",
        "\n",
        "**Модули использовать нельзя**"
      ]
    },
    {
      "cell_type": "code",
      "source": [
        "def iter_append(iterator, item):\n",
        "    yield from iterator\n",
        "    yield item\n",
        "\n"
      ],
      "metadata": {
        "id": "B9GsKjSQrpnj"
      },
      "id": "B9GsKjSQrpnj",
      "execution_count": 22,
      "outputs": []
    },
    {
      "cell_type": "code",
      "execution_count": 23,
      "id": "d70f202a-0515-4f40-a9b1-4738572a837c",
      "metadata": {
        "id": "d70f202a-0515-4f40-a9b1-4738572a837c",
        "outputId": "cbf1c601-8182-460a-9661-3525854b389b",
        "colab": {
          "base_uri": "https://localhost:8080/"
        }
      },
      "outputs": [
        {
          "output_type": "stream",
          "name": "stdout",
          "text": [
            "1\n",
            "2\n",
            "3\n",
            "4\n"
          ]
        }
      ],
      "source": [
        "\n",
        "    \n",
        "\n",
        "my_iterator = iter([1, 2, 3])\n",
        "new_iterator = iter_append(my_iterator, 4)\n",
        "\n",
        "for element in new_iterator:\n",
        "    print(element)"
      ]
    },
    {
      "cell_type": "markdown",
      "id": "72c35894-0caf-41ac-a584-56058b243f29",
      "metadata": {
        "id": "72c35894-0caf-41ac-a584-56058b243f29"
      },
      "source": [
        "# Задание 3 (5 баллов)"
      ]
    },
    {
      "cell_type": "markdown",
      "id": "884be4ed-b388-4b36-ad7d-d6835a87425e",
      "metadata": {
        "id": "884be4ed-b388-4b36-ad7d-d6835a87425e"
      },
      "source": [
        "Представим, что мы установили себе некоторую библиотеку, которая содержит в себе два класса `MyString` и `MySet`, которые являются наследниками `str` и `set`, но также несут и дополнительные методы.\n",
        "\n",
        "Проблема заключается в том, что библиотеку писали не очень аккуратные люди, поэтому получилось так, что некоторые методы возвращают не тот тип данных, который мы ожидаем. Например, `MyString().reverse()` возвращает объект класса `str`, хотя логичнее было бы ожидать объект класса `MyString`.\n",
        "\n",
        "Найдите и реализуйте удобный способ сделать так, чтобы подобные методы возвращали экземпляр текущего класса, а не родительского. При этом **код методов изменять нельзя**\n",
        "\n",
        "**+3 дополнительных балла** за реализацию того, чтобы **унаследованные от `str` и `set` методы** также возвращали объект интересующего нас класса (то есть `MyString.replace(..., ...)` должен возвращать `MyString`). **Переопределять методы нельзя**\n",
        "\n",
        "**Модули использовать нельзя**"
      ]
    },
    {
      "cell_type": "code",
      "source": [
        "class MyString(str):\n",
        "\n",
        "  def wrapper(func):\n",
        "    def inner_func(self):\n",
        "      return MyString(func(self))\n",
        "    return inner_func\n",
        "\n",
        "  @wrapper\n",
        "  def reverse(self):\n",
        "      return self[::-1]\n",
        "  \n",
        "  @wrapper\n",
        "  def make_uppercase(self):\n",
        "      return \"\".join([chr(ord(char) - 32) if 97 <= ord(char) <= 122 else char for char in self])\n",
        "  \n",
        "  @wrapper\n",
        "  def make_lowercase(self):\n",
        "      return \"\".join([chr(ord(char) + 32) if 65 <= ord(char) <= 90 else char for char in self])\n",
        "      \n",
        "  @wrapper\n",
        "  def capitalize_words(self):\n",
        "      return \" \".join([word.capitalize() for word in self.split()])\n",
        "    \n"
      ],
      "metadata": {
        "id": "BD3cYC-Q7MrZ"
      },
      "id": "BD3cYC-Q7MrZ",
      "execution_count": null,
      "outputs": []
    },
    {
      "cell_type": "code",
      "source": [
        "np.version.version"
      ],
      "metadata": {
        "colab": {
          "base_uri": "https://localhost:8080/",
          "height": 36
        },
        "id": "It4brxjYmCwu",
        "outputId": "b59bce01-23fb-4129-920b-a1f371cc4ae0"
      },
      "id": "It4brxjYmCwu",
      "execution_count": 25,
      "outputs": [
        {
          "output_type": "execute_result",
          "data": {
            "text/plain": [
              "'1.22.4'"
            ],
            "application/vnd.google.colaboratory.intrinsic+json": {
              "type": "string"
            }
          },
          "metadata": {},
          "execution_count": 25
        }
      ]
    },
    {
      "cell_type": "code",
      "source": [
        "class MySet(set):\n",
        "\n",
        "  def wrapper(func):\n",
        "    def inner_func(self, other):\n",
        "      return MySet(func(self, other))\n",
        "    return inner_func\n",
        "\n",
        "  def is_empty(self):\n",
        "        return len(self) == 0\n",
        "    \n",
        "  def has_duplicates(self):\n",
        "        return len(self) != len(set(self))\n",
        "\n",
        "  @wrapper\n",
        "  def union_with(self, other):\n",
        "        return self.union(other)\n",
        "        \n",
        "  @wrapper\n",
        "  def intersection_with(self, other):\n",
        "        return self.intersection(other)\n",
        "    \n",
        "  @wrapper\n",
        "  def difference_with(self, other):\n",
        "        return self.difference(other)"
      ],
      "metadata": {
        "id": "P_TphAwR8Ied"
      },
      "id": "P_TphAwR8Ied",
      "execution_count": null,
      "outputs": []
    },
    {
      "cell_type": "code",
      "source": [
        "string_example = MyString(\"Aa Bb Cc\")"
      ],
      "metadata": {
        "id": "yESW-PSM7Vci"
      },
      "id": "yESW-PSM7Vci",
      "execution_count": null,
      "outputs": []
    },
    {
      "cell_type": "code",
      "source": [
        "type(string_example)"
      ],
      "metadata": {
        "colab": {
          "base_uri": "https://localhost:8080/"
        },
        "id": "i1wriWyzYHJQ",
        "outputId": "9f11c37a-e081-4d27-9454-5bae5f23cbd1"
      },
      "id": "i1wriWyzYHJQ",
      "execution_count": null,
      "outputs": [
        {
          "output_type": "execute_result",
          "data": {
            "text/plain": [
              "__main__.MyString"
            ]
          },
          "metadata": {},
          "execution_count": 105
        }
      ]
    },
    {
      "cell_type": "code",
      "source": [
        "type(string_example.replace('A', 'F'))"
      ],
      "metadata": {
        "colab": {
          "base_uri": "https://localhost:8080/"
        },
        "id": "HNXYW4MiYM7u",
        "outputId": "49582920-65e0-4af7-c95d-5114e9584993"
      },
      "id": "HNXYW4MiYM7u",
      "execution_count": null,
      "outputs": [
        {
          "output_type": "execute_result",
          "data": {
            "text/plain": [
              "str"
            ]
          },
          "metadata": {},
          "execution_count": 107
        }
      ]
    },
    {
      "cell_type": "code",
      "source": [
        "print(type(string_example.reverse()))"
      ],
      "metadata": {
        "colab": {
          "base_uri": "https://localhost:8080/"
        },
        "id": "9Jb8JlP67aAX",
        "outputId": "0a2c3f65-6b08-4898-8c4c-1dcd96c0cc23"
      },
      "id": "9Jb8JlP67aAX",
      "execution_count": null,
      "outputs": [
        {
          "output_type": "stream",
          "name": "stdout",
          "text": [
            "<class '__main__.MyString'>\n"
          ]
        }
      ]
    },
    {
      "cell_type": "code",
      "source": [
        "string_example = MyString(\"Aa Bb Cc\")\n",
        "set_example_1 = MySet({1, 2, 3, 4})\n",
        "set_example_2 = MySet({3, 4, 5, 6, 6})\n",
        "\n",
        "print(type(string_example.reverse()))\n",
        "print(type(string_example.make_uppercase()))\n",
        "print(type(string_example.make_lowercase()))\n",
        "print(type(string_example.capitalize_words()))\n",
        "print()\n",
        "print(type(set_example_1.is_empty()))\n",
        "print(type(set_example_2.has_duplicates()))\n",
        "print(type(set_example_1.union_with(set_example_2)))\n",
        "print(type(set_example_1.difference_with(set_example_2)))\n"
      ],
      "metadata": {
        "colab": {
          "base_uri": "https://localhost:8080/"
        },
        "id": "vUhwEnDl6Mcb",
        "outputId": "67fc368f-94ad-4d0d-95cb-4aba2898249b"
      },
      "id": "vUhwEnDl6Mcb",
      "execution_count": null,
      "outputs": [
        {
          "output_type": "stream",
          "name": "stdout",
          "text": [
            "<class '__main__.MyString'>\n",
            "<class '__main__.MyString'>\n",
            "<class '__main__.MyString'>\n",
            "<class '__main__.MyString'>\n",
            "\n",
            "<class 'bool'>\n",
            "<class 'bool'>\n",
            "<class '__main__.MySet'>\n",
            "<class '__main__.MySet'>\n"
          ]
        }
      ]
    },
    {
      "cell_type": "code",
      "execution_count": null,
      "id": "8b985a7b-ddf2-47ce-8b76-a4dd921a2e06",
      "metadata": {
        "id": "8b985a7b-ddf2-47ce-8b76-a4dd921a2e06",
        "outputId": "de9df9d2-5b27-479c-dae3-d4f637994b7d"
      },
      "outputs": [
        {
          "name": "stdout",
          "output_type": "stream",
          "text": [
            "<class '__main__.MyString'>\n",
            "<class '__main__.MyString'>\n",
            "<class '__main__.MyString'>\n",
            "<class '__main__.MyString'>\n",
            "\n",
            "<class 'bool'>\n",
            "<class 'bool'>\n",
            "<class '__main__.MySet'>\n",
            "<class '__main__.MySet'>\n"
          ]
        }
      ],
      "source": [
        "string_example = MyString(\"Aa Bb Cc\")\n",
        "set_example_1 = MySet({1, 2, 3, 4})\n",
        "set_example_2 = MySet({3, 4, 5, 6, 6})\n",
        "\n",
        "print(type(string_example.reverse()))\n",
        "print(type(string_example.make_uppercase()))\n",
        "print(type(string_example.make_lowercase()))\n",
        "print(type(string_example.capitalize_words()))\n",
        "print()\n",
        "print(type(set_example_1.is_empty()))\n",
        "print(type(set_example_2.has_duplicates()))\n",
        "print(type(set_example_1.union_with(set_example_2)))\n",
        "print(type(set_example_1.difference_with(set_example_2)))"
      ]
    },
    {
      "cell_type": "markdown",
      "id": "f246ecea-9aaa-45c6-98e4-996dc9cdce14",
      "metadata": {
        "id": "f246ecea-9aaa-45c6-98e4-996dc9cdce14"
      },
      "source": [
        "# Задание 4 (5 баллов)"
      ]
    },
    {
      "cell_type": "markdown",
      "id": "e66831d7-df9c-4778-9942-bbb8796fef1e",
      "metadata": {
        "id": "e66831d7-df9c-4778-9942-bbb8796fef1e"
      },
      "source": [
        "Напишите декоратор `switch_privacy`:\n",
        "1. Делает все публичные **методы** класса приватными\n",
        "2. Делает все приватные методы класса публичными\n",
        "3. Dunder методы и защищённые методы остаются без изменений\n",
        "4. Должен работать тестовый код ниже, в теле класса писать код нельзя\n",
        "\n",
        "**Модули использовать нельзя**"
      ]
    },
    {
      "cell_type": "code",
      "execution_count": null,
      "id": "733db8d6-87b8-4797-97be-d3b901422ded",
      "metadata": {
        "id": "733db8d6-87b8-4797-97be-d3b901422ded"
      },
      "outputs": [],
      "source": [
        "# Ваш код здесь\n",
        "class ExampleClass:\n",
        "    # Но не здесь\n",
        "    def public_method(self):\n",
        "        return 1\n",
        "    \n",
        "    def _protected_method(self):\n",
        "        return 2\n",
        "    \n",
        "    def __private_method(self):\n",
        "        return 3\n",
        "    \n",
        "    def __dunder_method__(self):\n",
        "        pass"
      ]
    },
    {
      "cell_type": "code",
      "execution_count": null,
      "id": "c936077d-e618-459c-bbcc-6ad1b22d0975",
      "metadata": {
        "id": "c936077d-e618-459c-bbcc-6ad1b22d0975",
        "outputId": "d353ce15-6f7e-483f-da1a-a43c7e197f51"
      },
      "outputs": [
        {
          "data": {
            "text/plain": [
              "1"
            ]
          },
          "execution_count": 113,
          "metadata": {},
          "output_type": "execute_result"
        }
      ],
      "source": [
        "test_object = ExampleClass()\n",
        "\n",
        "test_object._ExampleClass__public_method()   # Публичный метод стал приватным"
      ]
    },
    {
      "cell_type": "code",
      "execution_count": null,
      "id": "10603672-80cf-460c-9305-d0950094419d",
      "metadata": {
        "id": "10603672-80cf-460c-9305-d0950094419d",
        "outputId": "22e57065-5e8e-40d3-82b8-05fb717cea00"
      },
      "outputs": [
        {
          "data": {
            "text/plain": [
              "3"
            ]
          },
          "execution_count": 114,
          "metadata": {},
          "output_type": "execute_result"
        }
      ],
      "source": [
        "test_object.private_method()   # Приватный метод стал публичным"
      ]
    },
    {
      "cell_type": "code",
      "execution_count": null,
      "id": "f30b1ef8-0f80-482d-89f1-09caece61c88",
      "metadata": {
        "id": "f30b1ef8-0f80-482d-89f1-09caece61c88",
        "outputId": "b495f5f0-ec1f-47d6-983b-0de84980f3a0"
      },
      "outputs": [
        {
          "data": {
            "text/plain": [
              "2"
            ]
          },
          "execution_count": 115,
          "metadata": {},
          "output_type": "execute_result"
        }
      ],
      "source": [
        "test_object._protected_method()   # Защищённый метод остался защищённым"
      ]
    },
    {
      "cell_type": "code",
      "execution_count": null,
      "id": "71d51e6e-62b5-4440-af3e-75088761b1bf",
      "metadata": {
        "id": "71d51e6e-62b5-4440-af3e-75088761b1bf"
      },
      "outputs": [],
      "source": [
        "test_object.__dunder_method__()   # Дандер метод не изменился"
      ]
    },
    {
      "cell_type": "code",
      "execution_count": null,
      "id": "a97cf0c4-4881-441c-83b6-ef8955377585",
      "metadata": {
        "id": "a97cf0c4-4881-441c-83b6-ef8955377585",
        "outputId": "25f58083-42c9-4b43-f354-d6ead88a4597"
      },
      "outputs": [
        {
          "data": {
            "text/plain": [
              "(False, False)"
            ]
          },
          "execution_count": 117,
          "metadata": {},
          "output_type": "execute_result"
        }
      ],
      "source": [
        "hasattr(test_object, \"public_method\"), hasattr(test_object, \"private\")   # Изначальные варианты изменённых методов не сохраняются"
      ]
    },
    {
      "cell_type": "markdown",
      "id": "31ad0bdd-9a24-4d6c-a499-e975b4b6acdd",
      "metadata": {
        "id": "31ad0bdd-9a24-4d6c-a499-e975b4b6acdd"
      },
      "source": [
        "# Задание 5 (7 баллов)"
      ]
    },
    {
      "cell_type": "markdown",
      "id": "68c75d25-37f7-491d-bcc0-ba74e8bdb364",
      "metadata": {
        "id": "68c75d25-37f7-491d-bcc0-ba74e8bdb364"
      },
      "source": [
        "Напишите [контекстный менеджер](https://docs.python.org/3/library/stdtypes.html#context-manager-types) `OpenFasta`\n",
        "\n",
        "Контекстные менеджеры это специальные объекты, которые могут работать с конструкцией `with ... as ...:`. В них нет ничего сложного, для их реализации как обычно нужно только определить только пару dunder методов. Изучите этот вопрос самостоятельно\n",
        "\n",
        "1. Объект должен работать как обычные файлы в питоне (наследоваться не надо, здесь лучше будет использовать **композицию**), но:\n",
        "    + При итерации по объекту мы должны будем получать не строку из файла, а специальный объект `FastaRecord`. Он будет хранить в себе информацию о последовательности. Важно, **не строки, а именно последовательности**, в fasta файлах последовательность часто разбивают на много строк\n",
        "    + Нужно написать методы `read_record` и `read_records`, которые по смыслу соответствуют `readline()` и `readlines()` в обычных файлах, но они должны выдавать не строки, а объект(ы) `FastaRecord`\n",
        "2. Конструктор должен принимать один аргумент - **путь к файлу**\n",
        "3. Класс должен эффективно распоряжаться памятью, с расчётом на работу с очень большими файлами\n",
        "    \n",
        "Объект `FastaRecord`. Это должен быть **датакласс** (см. про примеры декораторов в соответствующей лекции) с тремя полями:\n",
        "+ `seq` - последовательность\n",
        "+ `id_` - ID последовательности (это то, что в фаста файле в строке, которая начинается с `>` до первого пробела. Например, >**GTD326487.1** Species anonymous 24 chromosome) \n",
        "+ `description` - то, что осталось после ID (Например, >GTD326487.1 **Species anonymous 24 chromosome**)\n",
        "\n",
        "\n",
        "Напишите демонстрацию работы кода с использованием всех написанных методов, обязательно добавьте файл с тестовыми данными в репозиторий (не обязательно большой)\n",
        "\n",
        "**Можно использовать модули из стандартной библиотеки**"
      ]
    },
    {
      "cell_type": "code",
      "execution_count": null,
      "id": "5188b5d5-1e6e-4b11-9b54-9ba809210dfc",
      "metadata": {
        "id": "5188b5d5-1e6e-4b11-9b54-9ba809210dfc"
      },
      "outputs": [],
      "source": [
        "# Ваш код здесь\n",
        "\n",
        "\n",
        "with OpenFasta(os.path.join(\"data\", \"example.fasta\")) as fasta:\n",
        "    # Ваш код здесь\n",
        "    pass"
      ]
    },
    {
      "cell_type": "markdown",
      "id": "4db652e9-7697-4dd7-bcc3-649bdc18c1c4",
      "metadata": {
        "id": "4db652e9-7697-4dd7-bcc3-649bdc18c1c4"
      },
      "source": [
        "# Задание 6 (7 баллов)"
      ]
    },
    {
      "cell_type": "markdown",
      "id": "a8ba05f3-29f0-48be-a477-c1f61a9e0537",
      "metadata": {
        "id": "a8ba05f3-29f0-48be-a477-c1f61a9e0537"
      },
      "source": [
        "1. Напишите код, который позволит получать все возможные (неуникальные) генотипы при скрещивании двух организмов. Это может быть функция или класс, что вам кажется более удобным.\n",
        "\n",
        "Например, все возможные исходы скрещивания \"Aabb\" и \"Aabb\" (неуникальные) это\n",
        "\n",
        "```\n",
        "AAbb\n",
        "AAbb\n",
        "AAbb\n",
        "AAbb\n",
        "Aabb\n",
        "Aabb\n",
        "Aabb\n",
        "Aabb\n",
        "Aabb\n",
        "Aabb\n",
        "Aabb\n",
        "Aabb\n",
        "aabb\n",
        "aabb\n",
        "aabb\n",
        "aabb\n",
        "```\n",
        "\n",
        "2. Напишите функцию, которая вычисляет вероятность появления определённого генотипа (его ожидаемую долю в потомстве).\n",
        "Например,\n",
        "\n",
        "```python\n",
        "get_offspting_genotype_probability(parent1=\"Aabb\", parent2=\"Aabb\", target_genotype=\"Аabb\")   # 0.5\n",
        "\n",
        "```\n",
        "\n",
        "3. Напишите код, который выводит все уникальные генотипы при скрещивании `'АаБбввГгДдЕеЖжЗзИиЙйккЛлМмНн'` и `'АаббВвГгДДЕеЖжЗзИиЙйКкЛлМмНН'`, которые содержат в себе следующую комбинацию аллелей `'АаБбВвГгДдЕеЖжЗзИиЙйКкЛл'`\n",
        "4. Напишите код, который расчитывает вероятность появления генотипа `'АаБбввГгДдЕеЖжЗзИиЙйккЛлМмНн'` при скрещивании `АаБбВвГгДдЕеЖжЗзИиЙйКкЛлМмНн` и `АаБбВвГгДдЕеЖжЗзИиЙйКкЛлМмНн`\n",
        "\n",
        "Важные замечания:\n",
        "1. Порядок следования аллелей в случае гетерозигот всегда должен быть следующим: сначала большая буква, затем маленькая (вариант `AaBb` допустим, но `aAbB` быть не должно)\n",
        "2. Подзадачи 3 и 4 могут потребовать много вычислительного времени (до 15+ минут в зависимости от железа), поэтому убедитесь, что вы хорошо протестировали написанный вами код на малых данных перед выполнением этих задач. Если ваш код работает **дольше 20 мин**, то скорее всего ваше решение не оптимально, попытайтесь что-нибудь оптимизировать. Если оптимальное решение совсем не получается, то попробуйте из входных данных во всех заданиях убрать последний ген (это должно уменьшить время выполнения примерно в 4 раза), но **за такое решение будет снято 2 балла**\n",
        "3. Несмотря на то, что подзадания 2, 3 и 4 возможно решить математически, не прибегая к непосредственному получению всех возможных генотипов, от вас требуется именно brute-force вариант алгоритма\n",
        "\n",
        "**Можно использовать модули из стандартной библиотеки питона**, но **за выполнение задания без использования модулей придусмотрено +3 дополнительных балла**"
      ]
    },
    {
      "cell_type": "code",
      "source": [
        "import random \n",
        "import numpy as np "
      ],
      "metadata": {
        "id": "xikGpjEaAniG"
      },
      "id": "xikGpjEaAniG",
      "execution_count": 1,
      "outputs": []
    },
    {
      "cell_type": "code",
      "source": [
        "def get_alleles(genotype):  # функция разбивающая генотип на  аллели\n",
        "  allels = []\n",
        "  st = 0\n",
        "  for i in range(2, len(genotype)+1, 2):\n",
        "    allels.append(genotype[st:i])\n",
        "    st += 2\n",
        "  return allels\n"
      ],
      "metadata": {
        "id": "r0H1W6xj_Sxd"
      },
      "id": "r0H1W6xj_Sxd",
      "execution_count": 2,
      "outputs": []
    },
    {
      "cell_type": "code",
      "source": [
        "def wrapper_1(uniq = False):\n",
        "  def get_gametes(genotype):\n",
        "    alleles = get_alleles(genotype)\n",
        "    heterozig = sum(map(lambda x: 1 if len(set(x))==2 else 0, alleles))  # число гетерозигот\n",
        "    gametes = set()\n",
        "    while len(gametes) != 2**heterozig:  # генерируем пока не достигнем 2**heterozig гамет\n",
        "      gameta = ''.join(list(map(lambda x: x[np.random.choice(2, 1).item()], alleles)))\n",
        "      gametes.add(gameta)\n",
        "    gametes = list(gametes)\n",
        "    if not uniq:\n",
        "      if len(gametes) < 2**len(alleles): # добиваем до 2**n гамет, n - кол-ов генов\n",
        "        gametes *= 2**len(alleles)//len(gametes)\n",
        "        return gametes\n",
        "    else:\n",
        "        return gametes\n",
        "  return get_gametes\n",
        "\n"
      ],
      "metadata": {
        "id": "k7Nw6z6JBuLx"
      },
      "id": "k7Nw6z6JBuLx",
      "execution_count": 3,
      "outputs": []
    },
    {
      "cell_type": "code",
      "source": [
        "wrapper_1(uniq = True)('AaBB')"
      ],
      "metadata": {
        "id": "AI5f4dCKOqPg",
        "colab": {
          "base_uri": "https://localhost:8080/"
        },
        "outputId": "596c579a-7049-4162-8f66-98442827b606"
      },
      "id": "AI5f4dCKOqPg",
      "execution_count": 4,
      "outputs": [
        {
          "output_type": "execute_result",
          "data": {
            "text/plain": [
              "['AB', 'aB']"
            ]
          },
          "metadata": {},
          "execution_count": 4
        }
      ]
    },
    {
      "cell_type": "code",
      "source": [
        "wrapper_1(uniq = False)('AaBB')"
      ],
      "metadata": {
        "colab": {
          "base_uri": "https://localhost:8080/"
        },
        "id": "WkBaJAymaOBK",
        "outputId": "728d8974-b20c-4961-855b-c5ad5e2a1a03"
      },
      "id": "WkBaJAymaOBK",
      "execution_count": 5,
      "outputs": [
        {
          "output_type": "execute_result",
          "data": {
            "text/plain": [
              "['AB', 'aB', 'AB', 'aB']"
            ]
          },
          "metadata": {},
          "execution_count": 5
        }
      ]
    },
    {
      "cell_type": "code",
      "source": [
        "def split(gamets): # ['ABC'] -> ['A', 'B', 'C']\n",
        "    gamets = list(map(lambda x: list(x), gamets))\n",
        "    return gamets"
      ],
      "metadata": {
        "id": "UD6wcNhfFLUQ"
      },
      "id": "UD6wcNhfFLUQ",
      "execution_count": 6,
      "outputs": []
    },
    {
      "cell_type": "code",
      "source": [
        "def noneunique_offspring(parent1, parent2, func, split):\n",
        "  gametes_1 = split(func(parent1))\n",
        "  gametes_2 = split(func(parent2))\n",
        "  offspring = []\n",
        "  for i in gametes_1:\n",
        "    for j in gametes_2:\n",
        "      offspr = list(zip(i, j))\n",
        "      offspring.append(''.join(list(map(lambda x: x[0]+x[1] if x[0].isupper() else x[1]+x[0], offspr))))\n",
        "  return offspring"
      ],
      "metadata": {
        "id": "blw9IzdMDqji"
      },
      "id": "blw9IzdMDqji",
      "execution_count": 7,
      "outputs": []
    },
    {
      "cell_type": "code",
      "source": [
        "offspring = noneunique_offspring('AaBbСС', 'AaBbСС', wrapper_1(uniq = False), split)"
      ],
      "metadata": {
        "id": "Ty2MK3wDIb-X"
      },
      "id": "Ty2MK3wDIb-X",
      "execution_count": 10,
      "outputs": []
    },
    {
      "cell_type": "code",
      "source": [],
      "metadata": {
        "id": "H37-Mbo2av6F"
      },
      "id": "H37-Mbo2av6F",
      "execution_count": 47,
      "outputs": []
    },
    {
      "cell_type": "code",
      "source": [
        "def get_offspring_genotype_probability(parent1, parent2, target_genotype, func, split, arg = wrapper_1(uniq = False)):\n",
        "    offspring = func(parent1, parent2, arg, split)\n",
        "    count = 0\n",
        "    for i in offspring:\n",
        "      if i == target_genotype:\n",
        "        count += 1\n",
        "    return count/(len(offspring))\n"
      ],
      "metadata": {
        "id": "Wqo2gf3mi5Aw"
      },
      "id": "Wqo2gf3mi5Aw",
      "execution_count": 11,
      "outputs": []
    },
    {
      "cell_type": "code",
      "source": [
        "get_offspring_genotype_probability('Aabb', 'Aabb', 'Aabb', noneunique_offspring, split, arg = wrapper_1(uniq = False))"
      ],
      "metadata": {
        "colab": {
          "base_uri": "https://localhost:8080/"
        },
        "id": "pNNr2sjstyQW",
        "outputId": "1add1ec4-1d42-4569-ded7-421cfd7c26d8"
      },
      "id": "pNNr2sjstyQW",
      "execution_count": 12,
      "outputs": [
        {
          "output_type": "execute_result",
          "data": {
            "text/plain": [
              "0.5"
            ]
          },
          "metadata": {},
          "execution_count": 12
        }
      ]
    },
    {
      "cell_type": "code",
      "source": [
        "def wrapper(func, *args, **kwargs):\n",
        "  def inner_func():\n",
        "    offspring = list(set(func(*args, **kwargs)))\n",
        "    return offspring\n",
        "  return inner_func()"
      ],
      "metadata": {
        "id": "S2TfczREonFs"
      },
      "id": "S2TfczREonFs",
      "execution_count": 13,
      "outputs": []
    },
    {
      "cell_type": "code",
      "source": [
        "offspring = wrapper(noneunique_offspring, 'АаБбввГгДдЕеЖжЗзИиЙйккЛлМмНн', 'АаБбввГгДдЕеЖжЗзИиЙйккЛлМмНн', wrapper_1(uniq = True), split)"
      ],
      "metadata": {
        "id": "jVzI1gITTOwX"
      },
      "id": "jVzI1gITTOwX",
      "execution_count": 14,
      "outputs": []
    },
    {
      "cell_type": "code",
      "source": [
        "len(offspring) == len(list(set(offspring)))  # все уникальные "
      ],
      "metadata": {
        "colab": {
          "base_uri": "https://localhost:8080/"
        },
        "id": "j29-tZZILcLh",
        "outputId": "d6cc7888-3853-4e6f-edc7-0716730abc9c"
      },
      "id": "j29-tZZILcLh",
      "execution_count": 15,
      "outputs": [
        {
          "output_type": "execute_result",
          "data": {
            "text/plain": [
              "True"
            ]
          },
          "metadata": {},
          "execution_count": 15
        }
      ]
    },
    {
      "cell_type": "code",
      "execution_count": null,
      "id": "c64841e9-dfcd-45bb-bcaa-d672ea03a744",
      "metadata": {
        "tags": [],
        "id": "c64841e9-dfcd-45bb-bcaa-d672ea03a744"
      },
      "outputs": [],
      "source": [
        "# Ваш код здесь (1 и 2 подзадание)\n"
      ]
    },
    {
      "cell_type": "code",
      "execution_count": null,
      "id": "fdfb6d8c-0da7-4857-9579-6921dc409eb3",
      "metadata": {
        "tags": [],
        "id": "fdfb6d8c-0da7-4857-9579-6921dc409eb3"
      },
      "outputs": [],
      "source": [
        "# Ваш код здесь (3 подзадание)"
      ]
    },
    {
      "cell_type": "code",
      "execution_count": null,
      "id": "3e8a17cc-0642-49ae-ba6b-51ab5499660e",
      "metadata": {
        "id": "3e8a17cc-0642-49ae-ba6b-51ab5499660e"
      },
      "outputs": [],
      "source": [
        "# Ваш код здесь (4 подзадание)"
      ]
    }
  ],
  "metadata": {
    "kernelspec": {
      "display_name": "Python 3 (ipykernel)",
      "language": "python",
      "name": "python3"
    },
    "language_info": {
      "codemirror_mode": {
        "name": "ipython",
        "version": 3
      },
      "file_extension": ".py",
      "mimetype": "text/x-python",
      "name": "python",
      "nbconvert_exporter": "python",
      "pygments_lexer": "ipython3",
      "version": "3.9.12"
    },
    "colab": {
      "provenance": [],
      "include_colab_link": true
    }
  },
  "nbformat": 4,
  "nbformat_minor": 5
}